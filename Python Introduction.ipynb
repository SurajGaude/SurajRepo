{
 "cells": [
  {
   "cell_type": "markdown",
   "id": "eff5838d",
   "metadata": {},
   "source": [
    "Operating System\n",
    "\n",
    "- Establish user interface\n",
    "- Manages the computer's resources\n",
    "- provides resources to the application and helps to run the application on the computer\n",
    "\n"
   ]
  },
  {
   "cell_type": "markdown",
   "id": "0e445630",
   "metadata": {},
   "source": [
    "Programming language\n",
    "\n",
    "- language helps us to communicate with the computer\n",
    "- Programming language has:\n",
    "    - keywords: pre-defined words\n",
    "    - syntax: set of rules used to write any program\n",
    "    \n",
    "Types of programming languages:\n",
    "- Low level language (LLL)\n",
    "    - Binary\n",
    "    - Close to Machine\n",
    "    - Difficult to read, code\n",
    "    - Faster\n",
    "    - Not portable. machine dependent\n",
    "    - Assembly language\n",
    "- High leval language (HLL)\n",
    "    - Human understandable language (close to how humans communicate)\n",
    "    - Easier to code\n",
    "    - May take more time to translate to machine understandable code\n",
    "    - Portable - can run on any platform\n",
    "    - Java, Python"
   ]
  },
  {
   "cell_type": "markdown",
   "id": "d48ba0ec",
   "metadata": {},
   "source": [
    "Python & its features\n",
    "\n",
    "- Open source\n",
    "- Easier to code, learn, debug, understand\n",
    "- Huge number of library support\n",
    "- Community support\n",
    "- general purpose language\n",
    "- Portable\n",
    "- Dynamically typed\n",
    "- Memory management is automatic\n",
    "- Flexible\n",
    "- May not fast compared to other languages as C++"
   ]
  },
  {
   "cell_type": "code",
   "execution_count": 1,
   "id": "d635c58a",
   "metadata": {},
   "outputs": [],
   "source": [
    "a = 10"
   ]
  },
  {
   "cell_type": "code",
   "execution_count": 2,
   "id": "72ac292b",
   "metadata": {},
   "outputs": [],
   "source": [
    "# int a = 10;"
   ]
  },
  {
   "cell_type": "markdown",
   "id": "d1724628",
   "metadata": {},
   "source": [
    "Compiler and Interpreter\n",
    "\n",
    "- Translators\n",
    "- is used to translate the program into machine executable code\n",
    "\n",
    "Compiler\n",
    "- Translates the entire code at a time\n",
    "- Faster\n",
    "- Errors will be shown at the end of compilation\n",
    "\n",
    "Interpreter\n",
    "- Translates the code line by line\n",
    "- slower\n",
    "- Errors are shown line by line\n",
    "\n",
    "\n",
    "- Source code: Code/ program that we write\n",
    "\n",
    "- Machine code: machine executable code\n",
    "\n",
    "- Intermediate code:\n",
    "    - Object code: Java\n",
    "    - Byte code: Python\n",
    "    - C: Executable code\n",
    "    \n"
   ]
  },
  {
   "cell_type": "code",
   "execution_count": null,
   "id": "7fc4a186",
   "metadata": {},
   "outputs": [],
   "source": []
  },
  {
   "cell_type": "markdown",
   "id": "8020edea",
   "metadata": {},
   "source": [
    "Internal working of Python\n",
    "\n",
    "Source code (.py) ---Compiler--> Byte code (.pyc) ---PVM (Interpreter)--> Machine executable code\n",
    "\n",
    "Byte code (.pyc) is saved in __pycache__ folder \n",
    "\n",
    "PVM - Python Virtual Machine"
   ]
  },
  {
   "cell_type": "code",
   "execution_count": null,
   "id": "976eea2f",
   "metadata": {},
   "outputs": [],
   "source": []
  },
  {
   "cell_type": "markdown",
   "id": "ea45e7d5",
   "metadata": {},
   "source": [
    "Errors in Python:\n",
    "\n",
    "- Compile time errors\n",
    "    - Syntax error\n",
    "    - Indentation error\n",
    "    - If there is a compile time error, Byte code will NOT be generated\n",
    "    - During compilation, only syntax and indentation are checked\n",
    "    \n",
    "- Runtime errors\n",
    "    - Happens while the code is running after successfully compiled\n",
    "    - Exceptions\n",
    "    - This error stops the interpreter from executing the code and where the error has occured & displays the error message\n",
    "    - Any line before the error will be executed\n",
    "    - Spelling errors\n",
    "    - Divide a number by 0\n",
    "    - add a character with a number\n",
    "    - open a file which does not exist"
   ]
  },
  {
   "cell_type": "code",
   "execution_count": 3,
   "id": "e8fbac69",
   "metadata": {},
   "outputs": [
    {
     "name": "stdout",
     "output_type": "stream",
     "text": [
      "30\n"
     ]
    }
   ],
   "source": [
    "a = 10\n",
    "b = 20\n",
    "c = a + b\n",
    "print(c)"
   ]
  },
  {
   "cell_type": "code",
   "execution_count": 4,
   "id": "08b6a8ff",
   "metadata": {},
   "outputs": [
    {
     "name": "stdout",
     "output_type": "stream",
     "text": [
      "Hello everyone\n"
     ]
    }
   ],
   "source": [
    "print(\"Hello everyone\")"
   ]
  },
  {
   "cell_type": "code",
   "execution_count": 5,
   "id": "fc1f2bf4",
   "metadata": {},
   "outputs": [
    {
     "name": "stdout",
     "output_type": "stream",
     "text": [
      "100\n"
     ]
    }
   ],
   "source": [
    "print(100)"
   ]
  },
  {
   "cell_type": "code",
   "execution_count": 6,
   "id": "d2a11371",
   "metadata": {},
   "outputs": [
    {
     "ename": "SyntaxError",
     "evalue": "unexpected EOF while parsing (Temp/ipykernel_16520/2163284539.py, line 4)",
     "output_type": "error",
     "traceback": [
      "\u001b[1;36m  File \u001b[1;32m\"C:\\Users\\hp\\AppData\\Local\\Temp/ipykernel_16520/2163284539.py\"\u001b[1;36m, line \u001b[1;32m4\u001b[0m\n\u001b[1;33m    print(c\u001b[0m\n\u001b[1;37m           ^\u001b[0m\n\u001b[1;31mSyntaxError\u001b[0m\u001b[1;31m:\u001b[0m unexpected EOF while parsing\n"
     ]
    }
   ],
   "source": [
    "a = 10\n",
    "b = 20\n",
    "c = a + b\n",
    "print(c"
   ]
  },
  {
   "cell_type": "code",
   "execution_count": 7,
   "id": "f7296d5a",
   "metadata": {},
   "outputs": [
    {
     "name": "stdout",
     "output_type": "stream",
     "text": [
      "30\n"
     ]
    }
   ],
   "source": [
    "a = 10\n",
    "b = 20\n",
    "c = a + b\n",
    "print(c)"
   ]
  },
  {
   "cell_type": "code",
   "execution_count": 8,
   "id": "ede77737",
   "metadata": {},
   "outputs": [
    {
     "name": "stdout",
     "output_type": "stream",
     "text": [
      "0.5\n"
     ]
    }
   ],
   "source": [
    "a = 10\n",
    "b = 20\n",
    "c = a / b\n",
    "print(c)"
   ]
  },
  {
   "cell_type": "code",
   "execution_count": 9,
   "id": "379ea73a",
   "metadata": {},
   "outputs": [
    {
     "ename": "ZeroDivisionError",
     "evalue": "division by zero",
     "output_type": "error",
     "traceback": [
      "\u001b[1;31m---------------------------------------------------------------------------\u001b[0m",
      "\u001b[1;31mZeroDivisionError\u001b[0m                         Traceback (most recent call last)",
      "\u001b[1;32m~\\AppData\\Local\\Temp/ipykernel_16520/259743533.py\u001b[0m in \u001b[0;36m<module>\u001b[1;34m\u001b[0m\n\u001b[0;32m      1\u001b[0m \u001b[0ma\u001b[0m \u001b[1;33m=\u001b[0m \u001b[1;36m10\u001b[0m\u001b[1;33m\u001b[0m\u001b[1;33m\u001b[0m\u001b[0m\n\u001b[0;32m      2\u001b[0m \u001b[0mb\u001b[0m \u001b[1;33m=\u001b[0m \u001b[1;36m0\u001b[0m\u001b[1;33m\u001b[0m\u001b[1;33m\u001b[0m\u001b[0m\n\u001b[1;32m----> 3\u001b[1;33m \u001b[0mc\u001b[0m \u001b[1;33m=\u001b[0m \u001b[0ma\u001b[0m \u001b[1;33m/\u001b[0m \u001b[0mb\u001b[0m\u001b[1;33m\u001b[0m\u001b[1;33m\u001b[0m\u001b[0m\n\u001b[0m\u001b[0;32m      4\u001b[0m \u001b[0mprint\u001b[0m\u001b[1;33m(\u001b[0m\u001b[0mc\u001b[0m\u001b[1;33m)\u001b[0m\u001b[1;33m\u001b[0m\u001b[1;33m\u001b[0m\u001b[0m\n",
      "\u001b[1;31mZeroDivisionError\u001b[0m: division by zero"
     ]
    }
   ],
   "source": [
    "a = 10\n",
    "b = 0\n",
    "c = a / b\n",
    "print(c)"
   ]
  },
  {
   "cell_type": "code",
   "execution_count": 10,
   "id": "b2103088",
   "metadata": {},
   "outputs": [
    {
     "name": "stdout",
     "output_type": "stream",
     "text": [
      "10\n",
      "0\n"
     ]
    },
    {
     "ename": "ZeroDivisionError",
     "evalue": "division by zero",
     "output_type": "error",
     "traceback": [
      "\u001b[1;31m---------------------------------------------------------------------------\u001b[0m",
      "\u001b[1;31mZeroDivisionError\u001b[0m                         Traceback (most recent call last)",
      "\u001b[1;32m~\\AppData\\Local\\Temp/ipykernel_16520/1481315922.py\u001b[0m in \u001b[0;36m<module>\u001b[1;34m\u001b[0m\n\u001b[0;32m      3\u001b[0m \u001b[0mb\u001b[0m \u001b[1;33m=\u001b[0m \u001b[1;36m0\u001b[0m\u001b[1;33m\u001b[0m\u001b[1;33m\u001b[0m\u001b[0m\n\u001b[0;32m      4\u001b[0m \u001b[0mprint\u001b[0m\u001b[1;33m(\u001b[0m\u001b[0mb\u001b[0m\u001b[1;33m)\u001b[0m\u001b[1;33m\u001b[0m\u001b[1;33m\u001b[0m\u001b[0m\n\u001b[1;32m----> 5\u001b[1;33m \u001b[0mc\u001b[0m \u001b[1;33m=\u001b[0m \u001b[0ma\u001b[0m \u001b[1;33m/\u001b[0m \u001b[0mb\u001b[0m\u001b[1;33m\u001b[0m\u001b[1;33m\u001b[0m\u001b[0m\n\u001b[0m\u001b[0;32m      6\u001b[0m \u001b[0mprint\u001b[0m\u001b[1;33m(\u001b[0m\u001b[0mc\u001b[0m\u001b[1;33m)\u001b[0m\u001b[1;33m\u001b[0m\u001b[1;33m\u001b[0m\u001b[0m\n",
      "\u001b[1;31mZeroDivisionError\u001b[0m: division by zero"
     ]
    }
   ],
   "source": [
    "a = 10\n",
    "print(a)\n",
    "b = 0\n",
    "print(b)\n",
    "c = a / b\n",
    "print(c)"
   ]
  },
  {
   "cell_type": "code",
   "execution_count": 11,
   "id": "04ab8af1",
   "metadata": {},
   "outputs": [
    {
     "ename": "SyntaxError",
     "evalue": "unexpected EOF while parsing (Temp/ipykernel_16520/534965578.py, line 6)",
     "output_type": "error",
     "traceback": [
      "\u001b[1;36m  File \u001b[1;32m\"C:\\Users\\hp\\AppData\\Local\\Temp/ipykernel_16520/534965578.py\"\u001b[1;36m, line \u001b[1;32m6\u001b[0m\n\u001b[1;33m    print(c\u001b[0m\n\u001b[1;37m           ^\u001b[0m\n\u001b[1;31mSyntaxError\u001b[0m\u001b[1;31m:\u001b[0m unexpected EOF while parsing\n"
     ]
    }
   ],
   "source": [
    "a = 10\n",
    "print(a)\n",
    "b = 5\n",
    "print(b)\n",
    "c = a / b\n",
    "print(c"
   ]
  },
  {
   "cell_type": "code",
   "execution_count": 12,
   "id": "b2a0fd9d",
   "metadata": {},
   "outputs": [
    {
     "ename": "NameError",
     "evalue": "name 'x' is not defined",
     "output_type": "error",
     "traceback": [
      "\u001b[1;31m---------------------------------------------------------------------------\u001b[0m",
      "\u001b[1;31mNameError\u001b[0m                                 Traceback (most recent call last)",
      "\u001b[1;32m~\\AppData\\Local\\Temp/ipykernel_16520/3021081394.py\u001b[0m in \u001b[0;36m<module>\u001b[1;34m\u001b[0m\n\u001b[1;32m----> 1\u001b[1;33m \u001b[0mprint\u001b[0m\u001b[1;33m(\u001b[0m\u001b[0mx\u001b[0m\u001b[1;33m)\u001b[0m\u001b[1;33m\u001b[0m\u001b[1;33m\u001b[0m\u001b[0m\n\u001b[0m\u001b[0;32m      2\u001b[0m \u001b[0mx\u001b[0m \u001b[1;33m=\u001b[0m \u001b[1;36m100\u001b[0m\u001b[1;33m\u001b[0m\u001b[1;33m\u001b[0m\u001b[0m\n",
      "\u001b[1;31mNameError\u001b[0m: name 'x' is not defined"
     ]
    }
   ],
   "source": [
    "print(x)\n",
    "x = 100"
   ]
  },
  {
   "cell_type": "code",
   "execution_count": 13,
   "id": "51adf2eb",
   "metadata": {},
   "outputs": [
    {
     "ename": "TypeError",
     "evalue": "unsupported operand type(s) for +: 'int' and 'str'",
     "output_type": "error",
     "traceback": [
      "\u001b[1;31m---------------------------------------------------------------------------\u001b[0m",
      "\u001b[1;31mTypeError\u001b[0m                                 Traceback (most recent call last)",
      "\u001b[1;32m~\\AppData\\Local\\Temp/ipykernel_16520/71825610.py\u001b[0m in \u001b[0;36m<module>\u001b[1;34m\u001b[0m\n\u001b[1;32m----> 1\u001b[1;33m \u001b[1;36m10\u001b[0m \u001b[1;33m+\u001b[0m \u001b[1;34m'apple'\u001b[0m\u001b[1;33m\u001b[0m\u001b[1;33m\u001b[0m\u001b[0m\n\u001b[0m",
      "\u001b[1;31mTypeError\u001b[0m: unsupported operand type(s) for +: 'int' and 'str'"
     ]
    }
   ],
   "source": [
    "10 + 'apple'"
   ]
  },
  {
   "cell_type": "code",
   "execution_count": null,
   "id": "44a2eb81",
   "metadata": {},
   "outputs": [],
   "source": []
  },
  {
   "cell_type": "code",
   "execution_count": 1,
   "id": "c8dbbf76",
   "metadata": {},
   "outputs": [],
   "source": [
    "# Indentation"
   ]
  },
  {
   "cell_type": "code",
   "execution_count": 2,
   "id": "33011485",
   "metadata": {},
   "outputs": [
    {
     "name": "stdout",
     "output_type": "stream",
     "text": [
      "Pass\n"
     ]
    }
   ],
   "source": [
    "marks = 80\n",
    "\n",
    "if marks > 40:\n",
    "    print(\"Pass\")"
   ]
  },
  {
   "cell_type": "code",
   "execution_count": 3,
   "id": "8d0c38de",
   "metadata": {},
   "outputs": [
    {
     "ename": "IndentationError",
     "evalue": "expected an indented block (Temp/ipykernel_9428/1607033418.py, line 4)",
     "output_type": "error",
     "traceback": [
      "\u001b[1;36m  File \u001b[1;32m\"C:\\Users\\hp\\AppData\\Local\\Temp/ipykernel_9428/1607033418.py\"\u001b[1;36m, line \u001b[1;32m4\u001b[0m\n\u001b[1;33m    print(\"Pass\")\u001b[0m\n\u001b[1;37m    ^\u001b[0m\n\u001b[1;31mIndentationError\u001b[0m\u001b[1;31m:\u001b[0m expected an indented block\n"
     ]
    }
   ],
   "source": [
    "marks = 80\n",
    "\n",
    "if marks > 40:\n",
    "print(\"Pass\")"
   ]
  },
  {
   "cell_type": "code",
   "execution_count": 4,
   "id": "8567468d",
   "metadata": {},
   "outputs": [
    {
     "name": "stdout",
     "output_type": "stream",
     "text": [
      "Fail\n"
     ]
    }
   ],
   "source": [
    "marks = 30\n",
    "\n",
    "if marks > 40:\n",
    "    print(\"Pass\")\n",
    "else:\n",
    "    print(\"Fail\")"
   ]
  },
  {
   "cell_type": "code",
   "execution_count": 5,
   "id": "96ff84bd",
   "metadata": {},
   "outputs": [],
   "source": [
    "# By convention indentation should be 4 spaces"
   ]
  },
  {
   "cell_type": "code",
   "execution_count": 6,
   "id": "b214fd69",
   "metadata": {},
   "outputs": [
    {
     "name": "stdout",
     "output_type": "stream",
     "text": [
      "Fail\n"
     ]
    }
   ],
   "source": [
    "marks = 30\n",
    "\n",
    "if marks > 40:\n",
    " print(\"Pass\")\n",
    "else:\n",
    " print(\"Fail\")"
   ]
  },
  {
   "cell_type": "code",
   "execution_count": 7,
   "id": "7aec6aaf",
   "metadata": {},
   "outputs": [],
   "source": [
    "# if condition{\n",
    "#     statement\n",
    "# }"
   ]
  },
  {
   "cell_type": "code",
   "execution_count": 8,
   "id": "c0bfe983",
   "metadata": {},
   "outputs": [
    {
     "name": "stdout",
     "output_type": "stream",
     "text": [
      "Fail\n"
     ]
    }
   ],
   "source": [
    "marks = 30\n",
    "\n",
    "if (marks > 40):\n",
    " print(\"Pass\")\n",
    "else:\n",
    " print(\"Fail\")"
   ]
  },
  {
   "cell_type": "code",
   "execution_count": 9,
   "id": "ebca114d",
   "metadata": {},
   "outputs": [],
   "source": [
    "# () - parenthesis"
   ]
  },
  {
   "cell_type": "code",
   "execution_count": 10,
   "id": "ec15f2d4",
   "metadata": {},
   "outputs": [
    {
     "ename": "SyntaxError",
     "evalue": "invalid syntax (Temp/ipykernel_9428/3447344325.py, line 3)",
     "output_type": "error",
     "traceback": [
      "\u001b[1;36m  File \u001b[1;32m\"C:\\Users\\hp\\AppData\\Local\\Temp/ipykernel_9428/3447344325.py\"\u001b[1;36m, line \u001b[1;32m3\u001b[0m\n\u001b[1;33m    if marks > 40\u001b[0m\n\u001b[1;37m                 ^\u001b[0m\n\u001b[1;31mSyntaxError\u001b[0m\u001b[1;31m:\u001b[0m invalid syntax\n"
     ]
    }
   ],
   "source": [
    "marks = 30\n",
    "\n",
    "if marks > 40\n",
    "    print(\"Pass\")\n",
    "else:\n",
    "    print(\"Fail\")"
   ]
  },
  {
   "cell_type": "code",
   "execution_count": 11,
   "id": "177987b7",
   "metadata": {},
   "outputs": [
    {
     "name": "stdout",
     "output_type": "stream",
     "text": [
      "Fail\n"
     ]
    }
   ],
   "source": [
    "marks = 30\n",
    "\n",
    "if marks > 40:\n",
    "    print(\"Pass\");\n",
    "else:\n",
    "    print(\"Fail\")"
   ]
  },
  {
   "cell_type": "code",
   "execution_count": 12,
   "id": "8186cae4",
   "metadata": {},
   "outputs": [
    {
     "ename": "SyntaxError",
     "evalue": "invalid syntax (Temp/ipykernel_9428/1426967104.py, line 3)",
     "output_type": "error",
     "traceback": [
      "\u001b[1;36m  File \u001b[1;32m\"C:\\Users\\hp\\AppData\\Local\\Temp/ipykernel_9428/1426967104.py\"\u001b[1;36m, line \u001b[1;32m3\u001b[0m\n\u001b[1;33m    if marks => 40:\u001b[0m\n\u001b[1;37m             ^\u001b[0m\n\u001b[1;31mSyntaxError\u001b[0m\u001b[1;31m:\u001b[0m invalid syntax\n"
     ]
    }
   ],
   "source": [
    "marks = 30\n",
    "\n",
    "if marks => 40:\n",
    "    print(\"Pass\");\n",
    "else:\n",
    "    print(\"Fail\")"
   ]
  },
  {
   "cell_type": "code",
   "execution_count": 13,
   "id": "76b785d7",
   "metadata": {},
   "outputs": [
    {
     "name": "stdout",
     "output_type": "stream",
     "text": [
      "Fail\n"
     ]
    }
   ],
   "source": [
    "marks = 30\n",
    "\n",
    "if marks >= 40:\n",
    "    print(\"Pass\");\n",
    "else:\n",
    "    print(\"Fail\")"
   ]
  },
  {
   "cell_type": "code",
   "execution_count": 15,
   "id": "85722b3b",
   "metadata": {},
   "outputs": [
    {
     "name": "stdout",
     "output_type": "stream",
     "text": [
      "Pass\n",
      "Hello\n"
     ]
    }
   ],
   "source": [
    "marks = 80\n",
    "\n",
    "if marks >= 40:\n",
    "    print(\"Pass\")\n",
    "    print(\"Hello\")\n",
    "else:\n",
    "    print(\"Fail\")"
   ]
  },
  {
   "cell_type": "code",
   "execution_count": 16,
   "id": "a3d047bc",
   "metadata": {},
   "outputs": [],
   "source": [
    "a = 10;"
   ]
  },
  {
   "cell_type": "code",
   "execution_count": 18,
   "id": "01cd176e",
   "metadata": {},
   "outputs": [
    {
     "ename": "IndentationError",
     "evalue": "unindent does not match any outer indentation level (<tokenize>, line 5)",
     "output_type": "error",
     "traceback": [
      "\u001b[1;36m  File \u001b[1;32m\"<tokenize>\"\u001b[1;36m, line \u001b[1;32m5\u001b[0m\n\u001b[1;33m    print(\"Hello\")\u001b[0m\n\u001b[1;37m    ^\u001b[0m\n\u001b[1;31mIndentationError\u001b[0m\u001b[1;31m:\u001b[0m unindent does not match any outer indentation level\n"
     ]
    }
   ],
   "source": [
    "marks = 80\n",
    "\n",
    "if marks >= 40:\n",
    "    print(\"Pass\")\n",
    "  print(\"Hello\")\n",
    "else:\n",
    "    print(\"Fail\")"
   ]
  },
  {
   "cell_type": "code",
   "execution_count": 19,
   "id": "a0047dc2",
   "metadata": {},
   "outputs": [
    {
     "name": "stdout",
     "output_type": "stream",
     "text": [
      "Pass\n",
      "Hello\n"
     ]
    }
   ],
   "source": [
    "marks = 80\n",
    "\n",
    "if marks >= 40:\n",
    "  print(\"Pass\")\n",
    "  print(\"Hello\")\n",
    "else:\n",
    "    print(\"Fail\")"
   ]
  },
  {
   "cell_type": "code",
   "execution_count": null,
   "id": "4c436f13",
   "metadata": {},
   "outputs": [],
   "source": []
  },
  {
   "attachments": {
    "Area%20created%20at%20memory%20allocation.png": {
     "image/png": "[encoded data removed]"
    }
   },
   "cell_type": "markdown",
   "id": "38a78f34",
   "metadata": {},
   "source": [
    "Memory Management in Python\n",
    "\n",
    "- Allocate and deallocate the memory for effectively run the code\n",
    "- Ineffiecient memory management may lead to slowness of the program\n",
    "\n",
    "- In Python, memory management is taken care by Python Memory Manager (PMM) - automatically done in Python\n",
    "\n",
    "Memory allocation\n",
    "\n",
    "1. Static memory allocation\n",
    "    - Memory is allocated at compile time\n",
    "    - Stack is used\n",
    "    - Memory cannot be re-used\n",
    "    int a = 10;\n",
    "    \n",
    "2. Dynamic memory allocation\n",
    "    - Memory is allocated during runtime\n",
    "    - Heap is used\n",
    "    - Memory can be re-used\n",
    "    a = 10\n",
    "    \n",
    "- In Python, dynamic memory allocation is done. So, memory management is done during runtime.\n",
    "PMM allocates the memory to an object and when that object is not needed, PMM automatically reclaims the memory for something else.\n",
    "\n",
    "\n",
    "Stack: Memory allocation on continuous memory addresses/ locations\n",
    "\n",
    "Heap: Memory allocation is random. Heap is a pile of memory.\n",
    "\n",
    "\n",
    "PMM has:\n",
    "- Object specific allocator: Allocate memory to the objects (int, string, float, ...)\n",
    "- Raw memory allocator: It interacts with the OS to ensure that there is enough memory for allocation\n",
    "\n",
    "When memory is allocated for running a program, different types of areas are created:\n",
    "\n",
    "![Area%20created%20at%20memory%20allocation.png](attachment:Area%20created%20at%20memory%20allocation.png)"
   ]
  },
  {
   "cell_type": "code",
   "execution_count": null,
   "id": "1d799016",
   "metadata": {},
   "outputs": [],
   "source": []
  },
  {
   "cell_type": "markdown",
   "id": "38b577a3",
   "metadata": {},
   "source": [
    "Garbage collection\n",
    "\n",
    "- deallocating the memory\n",
    "\n",
    "Reference counting: It counts the number of times an object is referred.\n",
    "\n"
   ]
  },
  {
   "cell_type": "code",
   "execution_count": 20,
   "id": "bacf1928",
   "metadata": {},
   "outputs": [],
   "source": [
    "a = 1000"
   ]
  },
  {
   "cell_type": "code",
   "execution_count": 21,
   "id": "4ebced2e",
   "metadata": {},
   "outputs": [
    {
     "data": {
      "text/plain": [
       "2134294720560"
      ]
     },
     "execution_count": 21,
     "metadata": {},
     "output_type": "execute_result"
    }
   ],
   "source": [
    "id(a)"
   ]
  },
  {
   "cell_type": "code",
   "execution_count": 22,
   "id": "92ba3a7e",
   "metadata": {},
   "outputs": [],
   "source": [
    "b = 1000"
   ]
  },
  {
   "cell_type": "code",
   "execution_count": 23,
   "id": "e964c3c8",
   "metadata": {},
   "outputs": [
    {
     "data": {
      "text/plain": [
       "2134294722224"
      ]
     },
     "execution_count": 23,
     "metadata": {},
     "output_type": "execute_result"
    }
   ],
   "source": [
    "id(b)"
   ]
  },
  {
   "cell_type": "code",
   "execution_count": 24,
   "id": "7c56cfc1",
   "metadata": {},
   "outputs": [
    {
     "name": "stdout",
     "output_type": "stream",
     "text": [
      "2134294721488\n",
      "2134294721328\n"
     ]
    }
   ],
   "source": [
    "x = 1000\n",
    "y = 1000\n",
    "print(id(x))\n",
    "print(id(y))"
   ]
  },
  {
   "cell_type": "code",
   "execution_count": 25,
   "id": "58d9e679",
   "metadata": {},
   "outputs": [
    {
     "data": {
      "text/plain": [
       "2134294721648"
      ]
     },
     "execution_count": 25,
     "metadata": {},
     "output_type": "execute_result"
    }
   ],
   "source": [
    "x = 1000\n",
    "id(x)\n",
    "y = 1000\n",
    "id(y)"
   ]
  },
  {
   "cell_type": "code",
   "execution_count": 26,
   "id": "e585777d",
   "metadata": {},
   "outputs": [
    {
     "name": "stdout",
     "output_type": "stream",
     "text": [
      "2134294720656\n"
     ]
    },
    {
     "data": {
      "text/plain": [
       "2134294721104"
      ]
     },
     "execution_count": 26,
     "metadata": {},
     "output_type": "execute_result"
    }
   ],
   "source": [
    "x = 1000\n",
    "print(id(x))\n",
    "y = 1000\n",
    "id(y)"
   ]
  },
  {
   "cell_type": "code",
   "execution_count": 27,
   "id": "aed73adb",
   "metadata": {},
   "outputs": [],
   "source": [
    "c = a"
   ]
  },
  {
   "cell_type": "code",
   "execution_count": 28,
   "id": "b3edd4ee",
   "metadata": {},
   "outputs": [
    {
     "data": {
      "text/plain": [
       "2134294720560"
      ]
     },
     "execution_count": 28,
     "metadata": {},
     "output_type": "execute_result"
    }
   ],
   "source": [
    "id(c)"
   ]
  },
  {
   "cell_type": "code",
   "execution_count": 29,
   "id": "011e18aa",
   "metadata": {},
   "outputs": [
    {
     "data": {
      "text/plain": [
       "2134294720560"
      ]
     },
     "execution_count": 29,
     "metadata": {},
     "output_type": "execute_result"
    }
   ],
   "source": [
    "id(a)"
   ]
  },
  {
   "cell_type": "code",
   "execution_count": 30,
   "id": "339a9337",
   "metadata": {},
   "outputs": [],
   "source": [
    "a = 500"
   ]
  },
  {
   "cell_type": "code",
   "execution_count": 31,
   "id": "d4f42f0e",
   "metadata": {},
   "outputs": [
    {
     "data": {
      "text/plain": [
       "2134294721808"
      ]
     },
     "execution_count": 31,
     "metadata": {},
     "output_type": "execute_result"
    }
   ],
   "source": [
    "id(a)"
   ]
  },
  {
   "cell_type": "code",
   "execution_count": 32,
   "id": "f14e3d97",
   "metadata": {},
   "outputs": [
    {
     "data": {
      "text/plain": [
       "2134294720560"
      ]
     },
     "execution_count": 32,
     "metadata": {},
     "output_type": "execute_result"
    }
   ],
   "source": [
    "id(c)"
   ]
  },
  {
   "cell_type": "code",
   "execution_count": 33,
   "id": "c6ffe141",
   "metadata": {},
   "outputs": [
    {
     "name": "stdout",
     "output_type": "stream",
     "text": [
      "1000\n"
     ]
    }
   ],
   "source": [
    "print(c)"
   ]
  },
  {
   "cell_type": "code",
   "execution_count": 34,
   "id": "6527d431",
   "metadata": {},
   "outputs": [],
   "source": [
    "c = 600"
   ]
  },
  {
   "cell_type": "code",
   "execution_count": 35,
   "id": "d1d800ce",
   "metadata": {},
   "outputs": [
    {
     "data": {
      "text/plain": [
       "2134294721616"
      ]
     },
     "execution_count": 35,
     "metadata": {},
     "output_type": "execute_result"
    }
   ],
   "source": [
    "id(c)"
   ]
  },
  {
   "cell_type": "code",
   "execution_count": 36,
   "id": "017b8040",
   "metadata": {},
   "outputs": [
    {
     "name": "stdout",
     "output_type": "stream",
     "text": [
      "600\n"
     ]
    }
   ],
   "source": [
    "print(c)"
   ]
  },
  {
   "cell_type": "markdown",
   "id": "69dfde16",
   "metadata": {},
   "source": [
    "When the reference count of a memory becomes 0, the PMM sees that and the object(value) is removed from that memory and the memory is re-claimed to be used for something else. This is called Garbage collection.\n",
    "\n"
   ]
  },
  {
   "cell_type": "code",
   "execution_count": null,
   "id": "9dadb587",
   "metadata": {},
   "outputs": [],
   "source": []
  },
  {
   "cell_type": "code",
   "execution_count": null,
   "id": "0af6712d",
   "metadata": {},
   "outputs": [],
   "source": []
  },
  {
   "cell_type": "markdown",
   "id": "342886e4",
   "metadata": {},
   "source": [
    "Input and Output in Python"
   ]
  },
  {
   "cell_type": "code",
   "execution_count": 37,
   "id": "edba89c3",
   "metadata": {},
   "outputs": [],
   "source": [
    "# Output - print() function"
   ]
  },
  {
   "cell_type": "code",
   "execution_count": 38,
   "id": "73943fb9",
   "metadata": {},
   "outputs": [
    {
     "name": "stdout",
     "output_type": "stream",
     "text": [
      "100\n"
     ]
    }
   ],
   "source": [
    "print(100)"
   ]
  },
  {
   "cell_type": "code",
   "execution_count": 39,
   "id": "ba9b576b",
   "metadata": {},
   "outputs": [
    {
     "name": "stdout",
     "output_type": "stream",
     "text": [
      "Hello everyone\n"
     ]
    }
   ],
   "source": [
    "print(\"Hello everyone\")"
   ]
  },
  {
   "cell_type": "code",
   "execution_count": 40,
   "id": "8c60f888",
   "metadata": {},
   "outputs": [],
   "source": [
    "name = 'John'"
   ]
  },
  {
   "cell_type": "code",
   "execution_count": 41,
   "id": "5d2eae7f",
   "metadata": {},
   "outputs": [
    {
     "name": "stdout",
     "output_type": "stream",
     "text": [
      "John\n"
     ]
    }
   ],
   "source": [
    "print(name)"
   ]
  },
  {
   "cell_type": "code",
   "execution_count": 42,
   "id": "b158ce4b",
   "metadata": {},
   "outputs": [],
   "source": [
    "age = 50"
   ]
  },
  {
   "cell_type": "code",
   "execution_count": 43,
   "id": "d5f2aa31",
   "metadata": {},
   "outputs": [
    {
     "name": "stdout",
     "output_type": "stream",
     "text": [
      "50\n"
     ]
    }
   ],
   "source": [
    "print(age)"
   ]
  },
  {
   "cell_type": "code",
   "execution_count": 44,
   "id": "cf480b9c",
   "metadata": {},
   "outputs": [
    {
     "name": "stdout",
     "output_type": "stream",
     "text": [
      "Help on built-in function id in module builtins:\n",
      "\n",
      "id(obj, /)\n",
      "    Return the identity of an object.\n",
      "    \n",
      "    This is guaranteed to be unique among simultaneously existing objects.\n",
      "    (CPython uses the object's memory address.)\n",
      "\n"
     ]
    }
   ],
   "source": [
    "help(id)"
   ]
  },
  {
   "cell_type": "code",
   "execution_count": 45,
   "id": "627c3d7b",
   "metadata": {},
   "outputs": [
    {
     "name": "stdout",
     "output_type": "stream",
     "text": [
      "Help on built-in function print in module builtins:\n",
      "\n",
      "print(...)\n",
      "    print(value, ..., sep=' ', end='\\n', file=sys.stdout, flush=False)\n",
      "    \n",
      "    Prints the values to a stream, or to sys.stdout by default.\n",
      "    Optional keyword arguments:\n",
      "    file:  a file-like object (stream); defaults to the current sys.stdout.\n",
      "    sep:   string inserted between values, default a space.\n",
      "    end:   string appended after the last value, default a newline.\n",
      "    flush: whether to forcibly flush the stream.\n",
      "\n"
     ]
    }
   ],
   "source": [
    "help(print)"
   ]
  },
  {
   "cell_type": "code",
   "execution_count": 46,
   "id": "8fef5c99",
   "metadata": {},
   "outputs": [
    {
     "name": "stdout",
     "output_type": "stream",
     "text": [
      "10 100 300\n"
     ]
    }
   ],
   "source": [
    "print(10, 100, 300)"
   ]
  },
  {
   "cell_type": "code",
   "execution_count": 47,
   "id": "2d7e3d0e",
   "metadata": {},
   "outputs": [
    {
     "name": "stdout",
     "output_type": "stream",
     "text": [
      "10&100&300\n"
     ]
    }
   ],
   "source": [
    "print(10, 100, 300, sep='&')"
   ]
  },
  {
   "cell_type": "code",
   "execution_count": 48,
   "id": "e775e178",
   "metadata": {},
   "outputs": [
    {
     "name": "stdout",
     "output_type": "stream",
     "text": [
      "10100300\n"
     ]
    }
   ],
   "source": [
    "print(10, 100, 300, sep='')"
   ]
  },
  {
   "cell_type": "code",
   "execution_count": 49,
   "id": "60502f68",
   "metadata": {},
   "outputs": [
    {
     "name": "stdout",
     "output_type": "stream",
     "text": [
      "10BYE100BYE300\n"
     ]
    }
   ],
   "source": [
    "print(10, 100, 300, sep='BYE')"
   ]
  },
  {
   "cell_type": "code",
   "execution_count": 50,
   "id": "b896e1a9",
   "metadata": {},
   "outputs": [
    {
     "name": "stdout",
     "output_type": "stream",
     "text": [
      "100\n",
      "200\n"
     ]
    }
   ],
   "source": [
    "print(100)\n",
    "print(200)"
   ]
  },
  {
   "cell_type": "code",
   "execution_count": 51,
   "id": "37a443c8",
   "metadata": {},
   "outputs": [
    {
     "name": "stdout",
     "output_type": "stream",
     "text": [
      "100 200\n"
     ]
    }
   ],
   "source": [
    "print(100, end=' ')\n",
    "print(200)"
   ]
  },
  {
   "cell_type": "code",
   "execution_count": 52,
   "id": "b31ab52e",
   "metadata": {},
   "outputs": [
    {
     "name": "stdout",
     "output_type": "stream",
     "text": [
      "Python$Java$C++:Languages\n"
     ]
    }
   ],
   "source": [
    "print('Python', 'Java', 'C++', sep='$', end=':')\n",
    "print('Languages')"
   ]
  },
  {
   "cell_type": "code",
   "execution_count": null,
   "id": "20801bd5",
   "metadata": {},
   "outputs": [],
   "source": []
  },
  {
   "cell_type": "code",
   "execution_count": 53,
   "id": "47365170",
   "metadata": {},
   "outputs": [],
   "source": [
    "# Input - input()"
   ]
  },
  {
   "cell_type": "code",
   "execution_count": 54,
   "id": "765336bf",
   "metadata": {},
   "outputs": [
    {
     "name": "stdout",
     "output_type": "stream",
     "text": [
      "John\n"
     ]
    }
   ],
   "source": [
    "name = input()"
   ]
  },
  {
   "cell_type": "code",
   "execution_count": 55,
   "id": "56c6b6f9",
   "metadata": {},
   "outputs": [
    {
     "name": "stdout",
     "output_type": "stream",
     "text": [
      "John\n"
     ]
    }
   ],
   "source": [
    "print(name)"
   ]
  },
  {
   "cell_type": "code",
   "execution_count": 56,
   "id": "79c568db",
   "metadata": {},
   "outputs": [
    {
     "name": "stdout",
     "output_type": "stream",
     "text": [
      "Enter your name: Mark\n"
     ]
    }
   ],
   "source": [
    "name = input(\"Enter your name: \")"
   ]
  },
  {
   "cell_type": "code",
   "execution_count": 57,
   "id": "6ef1e4f0",
   "metadata": {},
   "outputs": [
    {
     "name": "stdout",
     "output_type": "stream",
     "text": [
      "Mark\n"
     ]
    }
   ],
   "source": [
    "print(name)"
   ]
  },
  {
   "cell_type": "code",
   "execution_count": 58,
   "id": "e2f4f5a4",
   "metadata": {},
   "outputs": [
    {
     "name": "stdout",
     "output_type": "stream",
     "text": [
      "Enter your name: Mark\n",
      "Enter your age: 40\n"
     ]
    }
   ],
   "source": [
    "name = input(\"Enter your name: \")\n",
    "age = input(\"Enter your age: \")"
   ]
  },
  {
   "cell_type": "code",
   "execution_count": 59,
   "id": "fb71e1d3",
   "metadata": {},
   "outputs": [],
   "source": [
    "# Mark is 40 years old"
   ]
  },
  {
   "cell_type": "code",
   "execution_count": 60,
   "id": "1a31abe9",
   "metadata": {},
   "outputs": [
    {
     "name": "stdout",
     "output_type": "stream",
     "text": [
      "Mark is 40 years old\n"
     ]
    }
   ],
   "source": [
    "print(name, 'is', age, 'years old')"
   ]
  },
  {
   "cell_type": "code",
   "execution_count": null,
   "id": "991e96ff",
   "metadata": {},
   "outputs": [],
   "source": []
  }
 ],
 "metadata": {
  "kernelspec": {
   "display_name": "Python 3 (ipykernel)",
   "language": "python",
   "name": "python3"
  },
  "language_info": {
   "codemirror_mode": {
    "name": "ipython",
    "version": 3
   },
   "file_extension": ".py",
   "mimetype": "text/x-python",
   "name": "python",
   "nbconvert_exporter": "python",
   "pygments_lexer": "ipython3",
   "version": "3.9.13"
  }
 },
 "nbformat": 4,
 "nbformat_minor": 5
}
