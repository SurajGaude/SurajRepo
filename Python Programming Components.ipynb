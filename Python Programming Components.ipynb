{
 "cells": [
  {
   "cell_type": "markdown",
   "id": "9191178a",
   "metadata": {},
   "source": [
    "Literals\n",
    "- Data or value that is stored\n",
    "\n",
    "a = 100 => Here, 100 is a literal\n",
    "\n",
    "name = \"Mark\" => Here, \"Mark\" is a literal\n",
    "\n",
    "- Numerical\n",
    "    - Integer: Base 10 or Decimal (0-9)\n",
    "    - Binary: Base 2 (0, 1) - 0b\n",
    "    - Octal: Base 8 (0-7) - 0o\n",
    "    - Hexadecimal: Base 16 (0-9, A-F) - 0x\n",
    "    - Float - fractional values\n",
    "    - Complex - a+bj"
   ]
  },
  {
   "cell_type": "code",
   "execution_count": 1,
   "id": "63ed8d86",
   "metadata": {},
   "outputs": [],
   "source": [
    "num1 = 100"
   ]
  },
  {
   "cell_type": "code",
   "execution_count": 2,
   "id": "721ef739",
   "metadata": {},
   "outputs": [
    {
     "name": "stdout",
     "output_type": "stream",
     "text": [
      "100\n"
     ]
    }
   ],
   "source": [
    "print(num1)"
   ]
  },
  {
   "cell_type": "code",
   "execution_count": 3,
   "id": "d24edb20",
   "metadata": {},
   "outputs": [],
   "source": [
    "num2 = 0b1010"
   ]
  },
  {
   "cell_type": "code",
   "execution_count": 4,
   "id": "86d5667a",
   "metadata": {},
   "outputs": [
    {
     "name": "stdout",
     "output_type": "stream",
     "text": [
      "10\n"
     ]
    }
   ],
   "source": [
    "print(num2)"
   ]
  },
  {
   "cell_type": "code",
   "execution_count": 5,
   "id": "5c0ff20b",
   "metadata": {},
   "outputs": [
    {
     "name": "stdout",
     "output_type": "stream",
     "text": [
      "0b1010\n"
     ]
    }
   ],
   "source": [
    "print(bin(10))"
   ]
  },
  {
   "cell_type": "code",
   "execution_count": 6,
   "id": "aabd8e1a",
   "metadata": {},
   "outputs": [
    {
     "name": "stdout",
     "output_type": "stream",
     "text": [
      "0b1010\n"
     ]
    }
   ],
   "source": [
    "print(bin(num2))"
   ]
  },
  {
   "cell_type": "code",
   "execution_count": 7,
   "id": "d5db4dd2",
   "metadata": {},
   "outputs": [],
   "source": [
    "num3 = 0o20"
   ]
  },
  {
   "cell_type": "code",
   "execution_count": 8,
   "id": "ebe3edbe",
   "metadata": {},
   "outputs": [
    {
     "name": "stdout",
     "output_type": "stream",
     "text": [
      "16\n"
     ]
    }
   ],
   "source": [
    "print(num3)"
   ]
  },
  {
   "cell_type": "code",
   "execution_count": 9,
   "id": "bd2e7ad6",
   "metadata": {},
   "outputs": [
    {
     "name": "stdout",
     "output_type": "stream",
     "text": [
      "0x10\n"
     ]
    }
   ],
   "source": [
    "print(hex(num3))"
   ]
  },
  {
   "cell_type": "code",
   "execution_count": 10,
   "id": "4e54ee6a",
   "metadata": {},
   "outputs": [],
   "source": [
    "num4 = 0x2F"
   ]
  },
  {
   "cell_type": "code",
   "execution_count": 11,
   "id": "998c29f5",
   "metadata": {},
   "outputs": [
    {
     "name": "stdout",
     "output_type": "stream",
     "text": [
      "47\n"
     ]
    }
   ],
   "source": [
    "print(num4)"
   ]
  },
  {
   "cell_type": "code",
   "execution_count": 12,
   "id": "dc4a99a3",
   "metadata": {},
   "outputs": [
    {
     "data": {
      "text/plain": [
       "'0o57'"
      ]
     },
     "execution_count": 12,
     "metadata": {},
     "output_type": "execute_result"
    }
   ],
   "source": [
    "oct(num4)"
   ]
  },
  {
   "cell_type": "code",
   "execution_count": 13,
   "id": "a058c6fb",
   "metadata": {},
   "outputs": [
    {
     "data": {
      "text/plain": [
       "'0b101111'"
      ]
     },
     "execution_count": 13,
     "metadata": {},
     "output_type": "execute_result"
    }
   ],
   "source": [
    "bin(num4)"
   ]
  },
  {
   "cell_type": "code",
   "execution_count": 14,
   "id": "a6de7538",
   "metadata": {},
   "outputs": [
    {
     "name": "stdout",
     "output_type": "stream",
     "text": [
      "47\n"
     ]
    }
   ],
   "source": [
    "print(num4)"
   ]
  },
  {
   "cell_type": "code",
   "execution_count": 15,
   "id": "9784919b",
   "metadata": {},
   "outputs": [],
   "source": [
    "val = 15"
   ]
  },
  {
   "cell_type": "code",
   "execution_count": 16,
   "id": "3290aab6",
   "metadata": {},
   "outputs": [
    {
     "name": "stdout",
     "output_type": "stream",
     "text": [
      "15\n"
     ]
    }
   ],
   "source": [
    "print(val)"
   ]
  },
  {
   "cell_type": "code",
   "execution_count": 17,
   "id": "6138cc0f",
   "metadata": {},
   "outputs": [
    {
     "name": "stdout",
     "output_type": "stream",
     "text": [
      "0b1111\n"
     ]
    }
   ],
   "source": [
    "print(bin(val))"
   ]
  },
  {
   "cell_type": "code",
   "execution_count": 18,
   "id": "482464db",
   "metadata": {},
   "outputs": [
    {
     "name": "stdout",
     "output_type": "stream",
     "text": [
      "0o17\n"
     ]
    }
   ],
   "source": [
    "print(oct(val))"
   ]
  },
  {
   "cell_type": "code",
   "execution_count": 19,
   "id": "3496e994",
   "metadata": {},
   "outputs": [
    {
     "name": "stdout",
     "output_type": "stream",
     "text": [
      "0xf\n"
     ]
    }
   ],
   "source": [
    "print(hex(val))"
   ]
  },
  {
   "cell_type": "code",
   "execution_count": 20,
   "id": "0820e94a",
   "metadata": {},
   "outputs": [],
   "source": [
    "f1 = 87.67"
   ]
  },
  {
   "cell_type": "code",
   "execution_count": 21,
   "id": "f286f9e4",
   "metadata": {},
   "outputs": [
    {
     "name": "stdout",
     "output_type": "stream",
     "text": [
      "87.67\n"
     ]
    }
   ],
   "source": [
    "print(f1)"
   ]
  },
  {
   "cell_type": "code",
   "execution_count": 22,
   "id": "541dc880",
   "metadata": {},
   "outputs": [],
   "source": [
    "f2 = 90.0"
   ]
  },
  {
   "cell_type": "code",
   "execution_count": 23,
   "id": "eb4a3c57",
   "metadata": {},
   "outputs": [
    {
     "name": "stdout",
     "output_type": "stream",
     "text": [
      "90.0\n"
     ]
    }
   ],
   "source": [
    "print(f2)"
   ]
  },
  {
   "cell_type": "code",
   "execution_count": 24,
   "id": "ae593ef0",
   "metadata": {},
   "outputs": [],
   "source": [
    "# Complex numbers\n",
    "# combination of real number and imaginary number"
   ]
  },
  {
   "cell_type": "code",
   "execution_count": 25,
   "id": "f3dc7cb9",
   "metadata": {},
   "outputs": [],
   "source": [
    "c1 = 6 + 5j"
   ]
  },
  {
   "cell_type": "code",
   "execution_count": 26,
   "id": "84b57a12",
   "metadata": {},
   "outputs": [
    {
     "name": "stdout",
     "output_type": "stream",
     "text": [
      "(6+5j)\n"
     ]
    }
   ],
   "source": [
    "print(c1)"
   ]
  },
  {
   "cell_type": "code",
   "execution_count": 27,
   "id": "3b20d248",
   "metadata": {},
   "outputs": [],
   "source": [
    "# j = square root of -1"
   ]
  },
  {
   "cell_type": "markdown",
   "id": "f4293a66",
   "metadata": {},
   "source": [
    "Boolean literal\n",
    "\n",
    "- True\n",
    "- False"
   ]
  },
  {
   "cell_type": "markdown",
   "id": "dc2f6dda",
   "metadata": {},
   "source": [
    "Special Literal\n",
    "\n",
    "None"
   ]
  },
  {
   "cell_type": "code",
   "execution_count": 28,
   "id": "d1465bc0",
   "metadata": {},
   "outputs": [],
   "source": [
    "val1 = False"
   ]
  },
  {
   "cell_type": "code",
   "execution_count": 29,
   "id": "e106fa4e",
   "metadata": {},
   "outputs": [],
   "source": [
    "val2 = True"
   ]
  },
  {
   "cell_type": "code",
   "execution_count": 30,
   "id": "d4bfc041",
   "metadata": {},
   "outputs": [],
   "source": [
    "val3 = None"
   ]
  },
  {
   "cell_type": "code",
   "execution_count": null,
   "id": "8a2fb636",
   "metadata": {},
   "outputs": [],
   "source": []
  },
  {
   "cell_type": "markdown",
   "id": "e7db6539",
   "metadata": {},
   "source": [
    "Strings\n",
    "\n",
    "- Sequence of characters enclosed within quotes ('', \"\", '''''', \"\"\"\"\"\")"
   ]
  },
  {
   "cell_type": "code",
   "execution_count": 31,
   "id": "0910b6d2",
   "metadata": {},
   "outputs": [],
   "source": [
    "s1 = 'Hello'"
   ]
  },
  {
   "cell_type": "code",
   "execution_count": 32,
   "id": "877acae0",
   "metadata": {},
   "outputs": [],
   "source": [
    "name = \"Mark\""
   ]
  },
  {
   "cell_type": "code",
   "execution_count": 33,
   "id": "4714bd61",
   "metadata": {},
   "outputs": [],
   "source": [
    "s2 = '''Welcome to Python'''"
   ]
  },
  {
   "cell_type": "code",
   "execution_count": 34,
   "id": "6735e116",
   "metadata": {},
   "outputs": [],
   "source": [
    "s3 = \"\"\"We are learning components of Python\"\"\""
   ]
  },
  {
   "cell_type": "code",
   "execution_count": 35,
   "id": "9e8ae8c5",
   "metadata": {},
   "outputs": [
    {
     "ename": "SyntaxError",
     "evalue": "invalid syntax (Temp/ipykernel_6772/3665556920.py, line 1)",
     "output_type": "error",
     "traceback": [
      "\u001b[1;36m  File \u001b[1;32m\"C:\\Users\\hp\\AppData\\Local\\Temp/ipykernel_6772/3665556920.py\"\u001b[1;36m, line \u001b[1;32m1\u001b[0m\n\u001b[1;33m    st1 = 'This is Python's class'\u001b[0m\n\u001b[1;37m                          ^\u001b[0m\n\u001b[1;31mSyntaxError\u001b[0m\u001b[1;31m:\u001b[0m invalid syntax\n"
     ]
    }
   ],
   "source": [
    "st1 = 'This is Python's class'"
   ]
  },
  {
   "cell_type": "code",
   "execution_count": 36,
   "id": "4f4848d9",
   "metadata": {},
   "outputs": [],
   "source": [
    "st1 = \"This is Python's class\""
   ]
  },
  {
   "cell_type": "code",
   "execution_count": 37,
   "id": "dc577de4",
   "metadata": {},
   "outputs": [
    {
     "name": "stdout",
     "output_type": "stream",
     "text": [
      "This is Python's class\n"
     ]
    }
   ],
   "source": [
    "print(st1)"
   ]
  },
  {
   "cell_type": "code",
   "execution_count": 38,
   "id": "503dd587",
   "metadata": {},
   "outputs": [],
   "source": [
    "ver = 'Python3.10.3'"
   ]
  },
  {
   "cell_type": "code",
   "execution_count": 39,
   "id": "eb28c505",
   "metadata": {},
   "outputs": [],
   "source": [
    "st3 = \"100\""
   ]
  },
  {
   "cell_type": "code",
   "execution_count": 41,
   "id": "9fb08c50",
   "metadata": {},
   "outputs": [
    {
     "ename": "SyntaxError",
     "evalue": "EOL while scanning string literal (Temp/ipykernel_6772/651360376.py, line 1)",
     "output_type": "error",
     "traceback": [
      "\u001b[1;36m  File \u001b[1;32m\"C:\\Users\\hp\\AppData\\Local\\Temp/ipykernel_6772/651360376.py\"\u001b[1;36m, line \u001b[1;32m1\u001b[0m\n\u001b[1;33m    st4 = \"Hello everyone\u001b[0m\n\u001b[1;37m                         ^\u001b[0m\n\u001b[1;31mSyntaxError\u001b[0m\u001b[1;31m:\u001b[0m EOL while scanning string literal\n"
     ]
    }
   ],
   "source": [
    "st4 = \"Hello everyone\n",
    "Python is fun\""
   ]
  },
  {
   "cell_type": "code",
   "execution_count": 42,
   "id": "939a3efd",
   "metadata": {},
   "outputs": [],
   "source": [
    "st4 = \"\"\"Hello everyone\n",
    "Python is fun\"\"\""
   ]
  },
  {
   "cell_type": "code",
   "execution_count": 43,
   "id": "be831022",
   "metadata": {},
   "outputs": [
    {
     "name": "stdout",
     "output_type": "stream",
     "text": [
      "Hello everyone\n",
      "Python is fun\n"
     ]
    }
   ],
   "source": [
    "print(st4)"
   ]
  },
  {
   "cell_type": "code",
   "execution_count": null,
   "id": "208112da",
   "metadata": {},
   "outputs": [],
   "source": []
  },
  {
   "cell_type": "markdown",
   "id": "3db12c8b",
   "metadata": {},
   "source": [
    "Identifier\n",
    "- A name given to a variable or a function or a class\n",
    "\n",
    "var = 100 => Here, var is an identifier (variable)\n",
    "\n",
    "Rules to define an identifier:\n",
    "- Allowed characters are: a-z, A-Z, 0-9, _\n",
    "- No other character apart from above is allowed\n",
    "- It cannot start from a number\n",
    "- An identifier cannot be a keyword"
   ]
  },
  {
   "cell_type": "code",
   "execution_count": 44,
   "id": "2325b835",
   "metadata": {},
   "outputs": [],
   "source": [
    "Value_1 = 100"
   ]
  },
  {
   "cell_type": "code",
   "execution_count": 45,
   "id": "7e749c1e",
   "metadata": {},
   "outputs": [
    {
     "ename": "SyntaxError",
     "evalue": "cannot assign to operator (Temp/ipykernel_6772/1039068686.py, line 1)",
     "output_type": "error",
     "traceback": [
      "\u001b[1;36m  File \u001b[1;32m\"C:\\Users\\hp\\AppData\\Local\\Temp/ipykernel_6772/1039068686.py\"\u001b[1;36m, line \u001b[1;32m1\u001b[0m\n\u001b[1;33m    Value&1 = 200\u001b[0m\n\u001b[1;37m    ^\u001b[0m\n\u001b[1;31mSyntaxError\u001b[0m\u001b[1;31m:\u001b[0m cannot assign to operator\n"
     ]
    }
   ],
   "source": [
    "Value&1 = 200"
   ]
  },
  {
   "cell_type": "code",
   "execution_count": 46,
   "id": "7583c6af",
   "metadata": {},
   "outputs": [
    {
     "ename": "SyntaxError",
     "evalue": "invalid syntax (Temp/ipykernel_6772/557298651.py, line 1)",
     "output_type": "error",
     "traceback": [
      "\u001b[1;36m  File \u001b[1;32m\"C:\\Users\\hp\\AppData\\Local\\Temp/ipykernel_6772/557298651.py\"\u001b[1;36m, line \u001b[1;32m1\u001b[0m\n\u001b[1;33m    1val = 300\u001b[0m\n\u001b[1;37m     ^\u001b[0m\n\u001b[1;31mSyntaxError\u001b[0m\u001b[1;31m:\u001b[0m invalid syntax\n"
     ]
    }
   ],
   "source": [
    "1val = 300"
   ]
  },
  {
   "cell_type": "code",
   "execution_count": 47,
   "id": "5386a93b",
   "metadata": {},
   "outputs": [
    {
     "ename": "SyntaxError",
     "evalue": "invalid syntax (Temp/ipykernel_6772/182722112.py, line 1)",
     "output_type": "error",
     "traceback": [
      "\u001b[1;36m  File \u001b[1;32m\"C:\\Users\\hp\\AppData\\Local\\Temp/ipykernel_6772/182722112.py\"\u001b[1;36m, line \u001b[1;32m1\u001b[0m\n\u001b[1;33m    if = 10\u001b[0m\n\u001b[1;37m       ^\u001b[0m\n\u001b[1;31mSyntaxError\u001b[0m\u001b[1;31m:\u001b[0m invalid syntax\n"
     ]
    }
   ],
   "source": [
    "if = 10"
   ]
  },
  {
   "cell_type": "code",
   "execution_count": 48,
   "id": "f006e695",
   "metadata": {},
   "outputs": [],
   "source": [
    "# print = 200 => DO NOT do this!!!"
   ]
  },
  {
   "cell_type": "markdown",
   "id": "bf5803a1",
   "metadata": {},
   "source": [
    "Variables\n",
    "- Names given to store the values\n",
    "\n",
    "var = 100\n",
    "\n",
    "Here, var is a variable"
   ]
  },
  {
   "cell_type": "code",
   "execution_count": 49,
   "id": "07d8ab5b",
   "metadata": {},
   "outputs": [],
   "source": [
    "name = \"Mark\""
   ]
  },
  {
   "cell_type": "code",
   "execution_count": 50,
   "id": "06620bd3",
   "metadata": {},
   "outputs": [],
   "source": [
    "v1b = 100"
   ]
  },
  {
   "cell_type": "code",
   "execution_count": null,
   "id": "e43442e2",
   "metadata": {},
   "outputs": [],
   "source": []
  },
  {
   "cell_type": "markdown",
   "id": "03a06e34",
   "metadata": {},
   "source": [
    "Keywords\n",
    "- Pre-defined words which are reserved in Python which have special meaning\n",
    "- if, def, else, for, while, .....\n",
    "\n",
    "if => used to write conditional statements\n",
    "\n",
    "def => used to define a user defined function"
   ]
  },
  {
   "cell_type": "markdown",
   "id": "4ea075e6",
   "metadata": {},
   "source": [
    "Constants\n",
    "\n",
    "- whose value cannot be changed\n",
    "\n",
    "- In Python, we use upper case to define constant values"
   ]
  },
  {
   "cell_type": "code",
   "execution_count": 51,
   "id": "ac11b4dd",
   "metadata": {},
   "outputs": [],
   "source": [
    "GRAVITY = 9.8"
   ]
  },
  {
   "cell_type": "code",
   "execution_count": 52,
   "id": "91281424",
   "metadata": {},
   "outputs": [
    {
     "name": "stdout",
     "output_type": "stream",
     "text": [
      "9.8\n"
     ]
    }
   ],
   "source": [
    "print(GRAVITY)"
   ]
  },
  {
   "cell_type": "code",
   "execution_count": 53,
   "id": "462d0955",
   "metadata": {},
   "outputs": [],
   "source": [
    "GRAVITY = 10"
   ]
  },
  {
   "cell_type": "code",
   "execution_count": 54,
   "id": "dfd3bd5e",
   "metadata": {},
   "outputs": [
    {
     "name": "stdout",
     "output_type": "stream",
     "text": [
      "10\n"
     ]
    }
   ],
   "source": [
    "print(GRAVITY)"
   ]
  },
  {
   "cell_type": "code",
   "execution_count": null,
   "id": "90a89e29",
   "metadata": {},
   "outputs": [],
   "source": []
  },
  {
   "cell_type": "markdown",
   "id": "066ceae0",
   "metadata": {},
   "source": [
    "Comments\n",
    "\n",
    "- documentation of that code/ line of code\n",
    "- used for understanding what the code is doing\n",
    "- Non executable line of code\n",
    "- We use # for writing single line comment\n",
    "- We use triple quotes are used for multi line comments"
   ]
  },
  {
   "cell_type": "code",
   "execution_count": 55,
   "id": "f8ad423f",
   "metadata": {},
   "outputs": [
    {
     "name": "stdout",
     "output_type": "stream",
     "text": [
      "30\n"
     ]
    }
   ],
   "source": [
    "# Adding 2 numbers\n",
    "a = 10\n",
    "b = 20\n",
    "c = a + b\n",
    "print(c)"
   ]
  },
  {
   "cell_type": "code",
   "execution_count": 56,
   "id": "d7a849ce",
   "metadata": {},
   "outputs": [
    {
     "name": "stdout",
     "output_type": "stream",
     "text": [
      "30\n"
     ]
    }
   ],
   "source": [
    "# Addition of numbers\n",
    "# Assign 10 to a\n",
    "a = 10\n",
    "# Assign 20 to b\n",
    "b = 20\n",
    "c = a + b # Adding a and b\n",
    "print(c)"
   ]
  },
  {
   "cell_type": "code",
   "execution_count": 57,
   "id": "06e53cc5",
   "metadata": {},
   "outputs": [
    {
     "name": "stdout",
     "output_type": "stream",
     "text": [
      "30\n",
      "Bye\n"
     ]
    }
   ],
   "source": [
    "# Addition of numbers\n",
    "# Assign 10 to a\n",
    "a = 10\n",
    "# Assign 20 to b\n",
    "b = 20\n",
    "c = a + b # Adding a and b\n",
    "print(c)\n",
    "print(\"Bye\")"
   ]
  },
  {
   "cell_type": "code",
   "execution_count": 58,
   "id": "6e7094b6",
   "metadata": {},
   "outputs": [
    {
     "name": "stdout",
     "output_type": "stream",
     "text": [
      "30\n"
     ]
    }
   ],
   "source": [
    "# Addition of numbers\n",
    "# Assign 10 to a\n",
    "a = 10\n",
    "# Assign 20 to b\n",
    "b = 20\n",
    "c = a + b # Adding a and b\n",
    "print(c)\n",
    "# print(\"Bye\")"
   ]
  },
  {
   "cell_type": "code",
   "execution_count": 59,
   "id": "3d224172",
   "metadata": {},
   "outputs": [
    {
     "name": "stdout",
     "output_type": "stream",
     "text": [
      "30\n"
     ]
    }
   ],
   "source": [
    "\"\"\"\n",
    "Addition of numbers\n",
    "Assign 10 to a\n",
    "\"\"\"\n",
    "a = 10\n",
    "# Assign 20 to b\n",
    "b = 20\n",
    "c = a + b # Adding a and b\n",
    "print(c)\n",
    "# print(\"Bye\")"
   ]
  },
  {
   "cell_type": "code",
   "execution_count": null,
   "id": "001691b8",
   "metadata": {},
   "outputs": [],
   "source": []
  },
  {
   "cell_type": "code",
   "execution_count": 60,
   "id": "0d566784",
   "metadata": {},
   "outputs": [],
   "source": [
    "# Expressions\n",
    "# An expression is a combination of values, variables and operators"
   ]
  },
  {
   "cell_type": "code",
   "execution_count": 61,
   "id": "39bd71a2",
   "metadata": {},
   "outputs": [],
   "source": [
    "a = 10"
   ]
  },
  {
   "cell_type": "code",
   "execution_count": 62,
   "id": "75f06d89",
   "metadata": {},
   "outputs": [
    {
     "data": {
      "text/plain": [
       "40"
      ]
     },
     "execution_count": 62,
     "metadata": {},
     "output_type": "execute_result"
    }
   ],
   "source": [
    "a * 2 + 20"
   ]
  },
  {
   "cell_type": "code",
   "execution_count": 63,
   "id": "16744fda",
   "metadata": {},
   "outputs": [],
   "source": [
    "# Expression evaluates to a value"
   ]
  },
  {
   "cell_type": "code",
   "execution_count": 64,
   "id": "387551ac",
   "metadata": {},
   "outputs": [
    {
     "data": {
      "text/plain": [
       "20"
      ]
     },
     "execution_count": 64,
     "metadata": {},
     "output_type": "execute_result"
    }
   ],
   "source": [
    "20"
   ]
  },
  {
   "cell_type": "code",
   "execution_count": 65,
   "id": "fc362cc5",
   "metadata": {},
   "outputs": [],
   "source": [
    "# Statements\n",
    "# Instructions in a program"
   ]
  },
  {
   "cell_type": "code",
   "execution_count": 66,
   "id": "a3311559",
   "metadata": {},
   "outputs": [],
   "source": [
    "result = a * 2 + 20"
   ]
  },
  {
   "cell_type": "code",
   "execution_count": 67,
   "id": "6e47ca44",
   "metadata": {},
   "outputs": [],
   "source": [
    "name = \"Mark\""
   ]
  },
  {
   "cell_type": "code",
   "execution_count": 68,
   "id": "dfc634ef",
   "metadata": {},
   "outputs": [],
   "source": [
    "age = 40"
   ]
  },
  {
   "cell_type": "code",
   "execution_count": 69,
   "id": "988cb9fb",
   "metadata": {},
   "outputs": [],
   "source": [
    "# Blocks\n",
    "# Combinations of statements"
   ]
  },
  {
   "cell_type": "code",
   "execution_count": 70,
   "id": "f1ec17ff",
   "metadata": {},
   "outputs": [],
   "source": [
    "# Suites"
   ]
  },
  {
   "cell_type": "code",
   "execution_count": 71,
   "id": "cf0bd6e1",
   "metadata": {},
   "outputs": [
    {
     "name": "stdout",
     "output_type": "stream",
     "text": [
      "Hello\n"
     ]
    }
   ],
   "source": [
    "num = 90\n",
    "\n",
    "if num > 50:\n",
    "    print(\"Hello\")"
   ]
  },
  {
   "cell_type": "code",
   "execution_count": 72,
   "id": "bf515a04",
   "metadata": {},
   "outputs": [
    {
     "name": "stdout",
     "output_type": "stream",
     "text": [
      "Hello\n"
     ]
    }
   ],
   "source": [
    "num = 90\n",
    "\n",
    "if num > 50:\n",
    "    print(\"Hello\")\n",
    "else:\n",
    "    print(\"Bye\")"
   ]
  },
  {
   "cell_type": "code",
   "execution_count": null,
   "id": "0b7489e7",
   "metadata": {},
   "outputs": [],
   "source": []
  },
  {
   "cell_type": "code",
   "execution_count": null,
   "id": "093715fe",
   "metadata": {},
   "outputs": [],
   "source": []
  }
 ],
 "metadata": {
  "kernelspec": {
   "display_name": "Python 3 (ipykernel)",
   "language": "python",
   "name": "python3"
  },
  "language_info": {
   "codemirror_mode": {
    "name": "ipython",
    "version": 3
   },
   "file_extension": ".py",
   "mimetype": "text/x-python",
   "name": "python",
   "nbconvert_exporter": "python",
   "pygments_lexer": "ipython3",
   "version": "3.9.13"
  }
 },
 "nbformat": 4,
 "nbformat_minor": 5
}
