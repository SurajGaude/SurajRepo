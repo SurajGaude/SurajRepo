{
 "cells": [
  {
   "cell_type": "code",
   "execution_count": 1,
   "id": "1e7a00a1",
   "metadata": {},
   "outputs": [],
   "source": [
    "# Comma separated of key:value pairs enclosed with {}\n",
    "# Unordered\n",
    "# Mutable\n",
    "\n",
    "# Duplicates keys are not allowed\n",
    "# values can be duplicate\n",
    "\n",
    "# Only immutable datatypes are allowed as keys\n",
    "# Any datatype is allowed to be a value"
   ]
  },
  {
   "cell_type": "code",
   "execution_count": 2,
   "id": "cbf99872",
   "metadata": {},
   "outputs": [],
   "source": [
    "student1 = {'id': 101, 'name': 'John', 'percent': 83.5}"
   ]
  },
  {
   "cell_type": "code",
   "execution_count": 3,
   "id": "cd2812c7",
   "metadata": {},
   "outputs": [
    {
     "name": "stdout",
     "output_type": "stream",
     "text": [
      "{'id': 101, 'name': 'John', 'percent': 83.5}\n"
     ]
    }
   ],
   "source": [
    "print(student1)"
   ]
  },
  {
   "cell_type": "code",
   "execution_count": 4,
   "id": "a00ace0e",
   "metadata": {},
   "outputs": [
    {
     "name": "stdout",
     "output_type": "stream",
     "text": [
      "<class 'dict'>\n"
     ]
    }
   ],
   "source": [
    "print(type(student1))"
   ]
  },
  {
   "cell_type": "code",
   "execution_count": 5,
   "id": "9637831e",
   "metadata": {},
   "outputs": [
    {
     "ename": "KeyError",
     "evalue": "0",
     "output_type": "error",
     "traceback": [
      "\u001b[1;31m---------------------------------------------------------------------------\u001b[0m",
      "\u001b[1;31mKeyError\u001b[0m                                  Traceback (most recent call last)",
      "\u001b[1;32m~\\AppData\\Local\\Temp/ipykernel_18696/1100772439.py\u001b[0m in \u001b[0;36m<module>\u001b[1;34m\u001b[0m\n\u001b[1;32m----> 1\u001b[1;33m \u001b[0mstudent1\u001b[0m\u001b[1;33m[\u001b[0m\u001b[1;36m0\u001b[0m\u001b[1;33m]\u001b[0m\u001b[1;33m\u001b[0m\u001b[1;33m\u001b[0m\u001b[0m\n\u001b[0m",
      "\u001b[1;31mKeyError\u001b[0m: 0"
     ]
    }
   ],
   "source": [
    "student1[0]"
   ]
  },
  {
   "cell_type": "code",
   "execution_count": 6,
   "id": "865d2382",
   "metadata": {},
   "outputs": [
    {
     "data": {
      "text/plain": [
       "101"
      ]
     },
     "execution_count": 6,
     "metadata": {},
     "output_type": "execute_result"
    }
   ],
   "source": [
    "student1['id']"
   ]
  },
  {
   "cell_type": "code",
   "execution_count": 7,
   "id": "ce589b65",
   "metadata": {},
   "outputs": [
    {
     "data": {
      "text/plain": [
       "'John'"
      ]
     },
     "execution_count": 7,
     "metadata": {},
     "output_type": "execute_result"
    }
   ],
   "source": [
    "student1['name']"
   ]
  },
  {
   "cell_type": "code",
   "execution_count": 8,
   "id": "31fc4060",
   "metadata": {},
   "outputs": [],
   "source": [
    "student1['id'] = 102"
   ]
  },
  {
   "cell_type": "code",
   "execution_count": 9,
   "id": "bf4debe8",
   "metadata": {},
   "outputs": [
    {
     "data": {
      "text/plain": [
       "{'id': 102, 'name': 'John', 'percent': 83.5}"
      ]
     },
     "execution_count": 9,
     "metadata": {},
     "output_type": "execute_result"
    }
   ],
   "source": [
    "student1"
   ]
  },
  {
   "cell_type": "code",
   "execution_count": 10,
   "id": "98ea45ea",
   "metadata": {},
   "outputs": [
    {
     "ename": "KeyError",
     "evalue": "'phone'",
     "output_type": "error",
     "traceback": [
      "\u001b[1;31m---------------------------------------------------------------------------\u001b[0m",
      "\u001b[1;31mKeyError\u001b[0m                                  Traceback (most recent call last)",
      "\u001b[1;32m~\\AppData\\Local\\Temp/ipykernel_18696/2057545907.py\u001b[0m in \u001b[0;36m<module>\u001b[1;34m\u001b[0m\n\u001b[1;32m----> 1\u001b[1;33m \u001b[0mstudent1\u001b[0m\u001b[1;33m[\u001b[0m\u001b[1;34m'phone'\u001b[0m\u001b[1;33m]\u001b[0m\u001b[1;33m\u001b[0m\u001b[1;33m\u001b[0m\u001b[0m\n\u001b[0m",
      "\u001b[1;31mKeyError\u001b[0m: 'phone'"
     ]
    }
   ],
   "source": [
    "student1['phone']"
   ]
  },
  {
   "cell_type": "code",
   "execution_count": 11,
   "id": "7e4ea2fa",
   "metadata": {},
   "outputs": [],
   "source": [
    "student1['phone'] = 12345"
   ]
  },
  {
   "cell_type": "code",
   "execution_count": 12,
   "id": "09065a4d",
   "metadata": {},
   "outputs": [
    {
     "data": {
      "text/plain": [
       "{'id': 102, 'name': 'John', 'percent': 83.5, 'phone': 12345}"
      ]
     },
     "execution_count": 12,
     "metadata": {},
     "output_type": "execute_result"
    }
   ],
   "source": [
    "student1"
   ]
  },
  {
   "cell_type": "code",
   "execution_count": 13,
   "id": "47e3da7d",
   "metadata": {},
   "outputs": [],
   "source": [
    "student1['pin'] = 12345"
   ]
  },
  {
   "cell_type": "code",
   "execution_count": 14,
   "id": "d874ceb4",
   "metadata": {},
   "outputs": [
    {
     "data": {
      "text/plain": [
       "{'id': 102, 'name': 'John', 'percent': 83.5, 'phone': 12345, 'pin': 12345}"
      ]
     },
     "execution_count": 14,
     "metadata": {},
     "output_type": "execute_result"
    }
   ],
   "source": [
    "student1"
   ]
  },
  {
   "cell_type": "code",
   "execution_count": 15,
   "id": "7e8c9195",
   "metadata": {},
   "outputs": [
    {
     "ename": "TypeError",
     "evalue": "unhashable type: 'list'",
     "output_type": "error",
     "traceback": [
      "\u001b[1;31m---------------------------------------------------------------------------\u001b[0m",
      "\u001b[1;31mTypeError\u001b[0m                                 Traceback (most recent call last)",
      "\u001b[1;32m~\\AppData\\Local\\Temp/ipykernel_18696/3591705473.py\u001b[0m in \u001b[0;36m<module>\u001b[1;34m\u001b[0m\n\u001b[1;32m----> 1\u001b[1;33m \u001b[0md1\u001b[0m \u001b[1;33m=\u001b[0m \u001b[1;33m{\u001b[0m\u001b[1;34m'a'\u001b[0m\u001b[1;33m:\u001b[0m \u001b[1;36m1\u001b[0m\u001b[1;33m,\u001b[0m \u001b[1;33m[\u001b[0m\u001b[1;36m10\u001b[0m\u001b[1;33m,\u001b[0m \u001b[1;36m20\u001b[0m\u001b[1;33m]\u001b[0m\u001b[1;33m:\u001b[0m \u001b[1;36m30\u001b[0m\u001b[1;33m}\u001b[0m\u001b[1;33m\u001b[0m\u001b[1;33m\u001b[0m\u001b[0m\n\u001b[0m",
      "\u001b[1;31mTypeError\u001b[0m: unhashable type: 'list'"
     ]
    }
   ],
   "source": [
    "d1 = {'a': 1, [10, 20]: 30}"
   ]
  },
  {
   "cell_type": "code",
   "execution_count": 16,
   "id": "3ef0248c",
   "metadata": {},
   "outputs": [
    {
     "ename": "TypeError",
     "evalue": "unhashable type: 'set'",
     "output_type": "error",
     "traceback": [
      "\u001b[1;31m---------------------------------------------------------------------------\u001b[0m",
      "\u001b[1;31mTypeError\u001b[0m                                 Traceback (most recent call last)",
      "\u001b[1;32m~\\AppData\\Local\\Temp/ipykernel_18696/2771666309.py\u001b[0m in \u001b[0;36m<module>\u001b[1;34m\u001b[0m\n\u001b[1;32m----> 1\u001b[1;33m \u001b[0md1\u001b[0m \u001b[1;33m=\u001b[0m \u001b[1;33m{\u001b[0m\u001b[1;34m'a'\u001b[0m\u001b[1;33m:\u001b[0m \u001b[1;36m1\u001b[0m\u001b[1;33m,\u001b[0m \u001b[1;33m{\u001b[0m\u001b[1;36m10\u001b[0m\u001b[1;33m,\u001b[0m \u001b[1;36m20\u001b[0m\u001b[1;33m}\u001b[0m\u001b[1;33m:\u001b[0m \u001b[1;36m30\u001b[0m\u001b[1;33m}\u001b[0m\u001b[1;33m\u001b[0m\u001b[1;33m\u001b[0m\u001b[0m\n\u001b[0m",
      "\u001b[1;31mTypeError\u001b[0m: unhashable type: 'set'"
     ]
    }
   ],
   "source": [
    "d1 = {'a': 1, {10, 20}: 30}"
   ]
  },
  {
   "cell_type": "code",
   "execution_count": 17,
   "id": "1715e877",
   "metadata": {},
   "outputs": [],
   "source": [
    "d1 = {'a': 1, (10, 20): 30}"
   ]
  },
  {
   "cell_type": "code",
   "execution_count": 18,
   "id": "ea48effa",
   "metadata": {},
   "outputs": [
    {
     "data": {
      "text/plain": [
       "{'a': 1, (10, 20): 30}"
      ]
     },
     "execution_count": 18,
     "metadata": {},
     "output_type": "execute_result"
    }
   ],
   "source": [
    "d1"
   ]
  },
  {
   "cell_type": "code",
   "execution_count": 19,
   "id": "dbeca230",
   "metadata": {},
   "outputs": [
    {
     "data": {
      "text/plain": [
       "{'id': 102, 'name': 'John', 'percent': 83.5, 'phone': 12345, 'pin': 12345}"
      ]
     },
     "execution_count": 19,
     "metadata": {},
     "output_type": "execute_result"
    }
   ],
   "source": [
    "student1"
   ]
  },
  {
   "cell_type": "code",
   "execution_count": 20,
   "id": "b66718e1",
   "metadata": {},
   "outputs": [],
   "source": [
    "student1['marks'] = [88, 85, 83, 81]"
   ]
  },
  {
   "cell_type": "code",
   "execution_count": 21,
   "id": "5ff1e36a",
   "metadata": {},
   "outputs": [
    {
     "data": {
      "text/plain": [
       "{'id': 102,\n",
       " 'name': 'John',\n",
       " 'percent': 83.5,\n",
       " 'phone': 12345,\n",
       " 'pin': 12345,\n",
       " 'marks': [88, 85, 83, 81]}"
      ]
     },
     "execution_count": 21,
     "metadata": {},
     "output_type": "execute_result"
    }
   ],
   "source": [
    "student1"
   ]
  },
  {
   "cell_type": "code",
   "execution_count": 22,
   "id": "4e128efe",
   "metadata": {},
   "outputs": [],
   "source": [
    "student1['marks'] = {'sub1': 88, 'sub2': 85, 'sub3': 83, 'sub4': 81}"
   ]
  },
  {
   "cell_type": "code",
   "execution_count": 23,
   "id": "b01345d6",
   "metadata": {},
   "outputs": [
    {
     "data": {
      "text/plain": [
       "{'id': 102,\n",
       " 'name': 'John',\n",
       " 'percent': 83.5,\n",
       " 'phone': 12345,\n",
       " 'pin': 12345,\n",
       " 'marks': {'sub1': 88, 'sub2': 85, 'sub3': 83, 'sub4': 81}}"
      ]
     },
     "execution_count": 23,
     "metadata": {},
     "output_type": "execute_result"
    }
   ],
   "source": [
    "student1"
   ]
  },
  {
   "cell_type": "code",
   "execution_count": null,
   "id": "14761ef0",
   "metadata": {},
   "outputs": [],
   "source": []
  },
  {
   "cell_type": "code",
   "execution_count": 25,
   "id": "f3edf204",
   "metadata": {},
   "outputs": [],
   "source": [
    "i = student1.items()"
   ]
  },
  {
   "cell_type": "code",
   "execution_count": 26,
   "id": "3da7fcb7",
   "metadata": {},
   "outputs": [
    {
     "data": {
      "text/plain": [
       "dict_items"
      ]
     },
     "execution_count": 26,
     "metadata": {},
     "output_type": "execute_result"
    }
   ],
   "source": [
    "type(i)"
   ]
  },
  {
   "cell_type": "code",
   "execution_count": 27,
   "id": "fe74ad5e",
   "metadata": {},
   "outputs": [
    {
     "data": {
      "text/plain": [
       "dict_items([('id', 102), ('name', 'John'), ('percent', 83.5), ('phone', 12345), ('pin', 12345), ('marks', {'sub1': 88, 'sub2': 85, 'sub3': 83, 'sub4': 81})])"
      ]
     },
     "execution_count": 27,
     "metadata": {},
     "output_type": "execute_result"
    }
   ],
   "source": [
    "i"
   ]
  },
  {
   "cell_type": "code",
   "execution_count": 28,
   "id": "63850de1",
   "metadata": {},
   "outputs": [],
   "source": [
    "i_list = list(i)"
   ]
  },
  {
   "cell_type": "code",
   "execution_count": 29,
   "id": "a15ab2f3",
   "metadata": {},
   "outputs": [
    {
     "data": {
      "text/plain": [
       "[('id', 102),\n",
       " ('name', 'John'),\n",
       " ('percent', 83.5),\n",
       " ('phone', 12345),\n",
       " ('pin', 12345),\n",
       " ('marks', {'sub1': 88, 'sub2': 85, 'sub3': 83, 'sub4': 81})]"
      ]
     },
     "execution_count": 29,
     "metadata": {},
     "output_type": "execute_result"
    }
   ],
   "source": [
    "i_list"
   ]
  },
  {
   "cell_type": "code",
   "execution_count": 30,
   "id": "67429720",
   "metadata": {},
   "outputs": [
    {
     "data": {
      "text/plain": [
       "list"
      ]
     },
     "execution_count": 30,
     "metadata": {},
     "output_type": "execute_result"
    }
   ],
   "source": [
    "type(i_list)"
   ]
  },
  {
   "cell_type": "code",
   "execution_count": 31,
   "id": "fc847815",
   "metadata": {},
   "outputs": [
    {
     "data": {
      "text/plain": [
       "('id', 102)"
      ]
     },
     "execution_count": 31,
     "metadata": {},
     "output_type": "execute_result"
    }
   ],
   "source": [
    "i_list[0]"
   ]
  },
  {
   "cell_type": "code",
   "execution_count": 32,
   "id": "130403bc",
   "metadata": {},
   "outputs": [
    {
     "data": {
      "text/plain": [
       "('name', 'John')"
      ]
     },
     "execution_count": 32,
     "metadata": {},
     "output_type": "execute_result"
    }
   ],
   "source": [
    "i_list[1]"
   ]
  },
  {
   "cell_type": "code",
   "execution_count": null,
   "id": "cc663833",
   "metadata": {},
   "outputs": [],
   "source": []
  },
  {
   "cell_type": "code",
   "execution_count": 33,
   "id": "ad18c3e0",
   "metadata": {},
   "outputs": [
    {
     "data": {
      "text/plain": [
       "{'id': 102,\n",
       " 'name': 'John',\n",
       " 'percent': 83.5,\n",
       " 'phone': 12345,\n",
       " 'pin': 12345,\n",
       " 'marks': {'sub1': 88, 'sub2': 85, 'sub3': 83, 'sub4': 81}}"
      ]
     },
     "execution_count": 33,
     "metadata": {},
     "output_type": "execute_result"
    }
   ],
   "source": [
    "student1"
   ]
  },
  {
   "cell_type": "code",
   "execution_count": 34,
   "id": "d9aabd8d",
   "metadata": {},
   "outputs": [
    {
     "data": {
      "text/plain": [
       "dict_keys(['id', 'name', 'percent', 'phone', 'pin', 'marks'])"
      ]
     },
     "execution_count": 34,
     "metadata": {},
     "output_type": "execute_result"
    }
   ],
   "source": [
    "student1.keys()"
   ]
  },
  {
   "cell_type": "code",
   "execution_count": 35,
   "id": "c49e8fda",
   "metadata": {},
   "outputs": [
    {
     "data": {
      "text/plain": [
       "dict_values([102, 'John', 83.5, 12345, 12345, {'sub1': 88, 'sub2': 85, 'sub3': 83, 'sub4': 81}])"
      ]
     },
     "execution_count": 35,
     "metadata": {},
     "output_type": "execute_result"
    }
   ],
   "source": [
    "student1.values()"
   ]
  },
  {
   "cell_type": "code",
   "execution_count": null,
   "id": "a57cbb42",
   "metadata": {},
   "outputs": [],
   "source": []
  },
  {
   "cell_type": "code",
   "execution_count": 36,
   "id": "86a715e9",
   "metadata": {},
   "outputs": [],
   "source": [
    "# in"
   ]
  },
  {
   "cell_type": "code",
   "execution_count": 37,
   "id": "a772e7d6",
   "metadata": {},
   "outputs": [
    {
     "data": {
      "text/plain": [
       "{'id': 102,\n",
       " 'name': 'John',\n",
       " 'percent': 83.5,\n",
       " 'phone': 12345,\n",
       " 'pin': 12345,\n",
       " 'marks': {'sub1': 88, 'sub2': 85, 'sub3': 83, 'sub4': 81}}"
      ]
     },
     "execution_count": 37,
     "metadata": {},
     "output_type": "execute_result"
    }
   ],
   "source": [
    "student1"
   ]
  },
  {
   "cell_type": "code",
   "execution_count": 38,
   "id": "2c23bbf6",
   "metadata": {},
   "outputs": [
    {
     "data": {
      "text/plain": [
       "True"
      ]
     },
     "execution_count": 38,
     "metadata": {},
     "output_type": "execute_result"
    }
   ],
   "source": [
    "'id' in student1"
   ]
  },
  {
   "cell_type": "code",
   "execution_count": 39,
   "id": "348f9a63",
   "metadata": {},
   "outputs": [
    {
     "data": {
      "text/plain": [
       "False"
      ]
     },
     "execution_count": 39,
     "metadata": {},
     "output_type": "execute_result"
    }
   ],
   "source": [
    "'John' in student1"
   ]
  },
  {
   "cell_type": "code",
   "execution_count": 40,
   "id": "e4d1c65f",
   "metadata": {},
   "outputs": [
    {
     "data": {
      "text/plain": [
       "True"
      ]
     },
     "execution_count": 40,
     "metadata": {},
     "output_type": "execute_result"
    }
   ],
   "source": [
    "'John' in student1.values()"
   ]
  },
  {
   "cell_type": "code",
   "execution_count": null,
   "id": "bfd7a547",
   "metadata": {},
   "outputs": [],
   "source": []
  },
  {
   "cell_type": "code",
   "execution_count": 41,
   "id": "49525955",
   "metadata": {},
   "outputs": [
    {
     "data": {
      "text/plain": [
       "{'id': 102,\n",
       " 'name': 'John',\n",
       " 'percent': 83.5,\n",
       " 'phone': 12345,\n",
       " 'pin': 12345,\n",
       " 'marks': {'sub1': 88, 'sub2': 85, 'sub3': 83, 'sub4': 81}}"
      ]
     },
     "execution_count": 41,
     "metadata": {},
     "output_type": "execute_result"
    }
   ],
   "source": [
    "student1"
   ]
  },
  {
   "cell_type": "code",
   "execution_count": 42,
   "id": "33fede7d",
   "metadata": {},
   "outputs": [
    {
     "data": {
      "text/plain": [
       "12345"
      ]
     },
     "execution_count": 42,
     "metadata": {},
     "output_type": "execute_result"
    }
   ],
   "source": [
    "student1.pop('pin')"
   ]
  },
  {
   "cell_type": "code",
   "execution_count": 43,
   "id": "3d1d1da4",
   "metadata": {},
   "outputs": [
    {
     "data": {
      "text/plain": [
       "{'id': 102,\n",
       " 'name': 'John',\n",
       " 'percent': 83.5,\n",
       " 'phone': 12345,\n",
       " 'marks': {'sub1': 88, 'sub2': 85, 'sub3': 83, 'sub4': 81}}"
      ]
     },
     "execution_count": 43,
     "metadata": {},
     "output_type": "execute_result"
    }
   ],
   "source": [
    "student1"
   ]
  },
  {
   "cell_type": "code",
   "execution_count": 44,
   "id": "8625fdad",
   "metadata": {},
   "outputs": [
    {
     "ename": "KeyError",
     "evalue": "'country'",
     "output_type": "error",
     "traceback": [
      "\u001b[1;31m---------------------------------------------------------------------------\u001b[0m",
      "\u001b[1;31mKeyError\u001b[0m                                  Traceback (most recent call last)",
      "\u001b[1;32m~\\AppData\\Local\\Temp/ipykernel_18696/662543917.py\u001b[0m in \u001b[0;36m<module>\u001b[1;34m\u001b[0m\n\u001b[1;32m----> 1\u001b[1;33m \u001b[0mstudent1\u001b[0m\u001b[1;33m.\u001b[0m\u001b[0mpop\u001b[0m\u001b[1;33m(\u001b[0m\u001b[1;34m'country'\u001b[0m\u001b[1;33m)\u001b[0m\u001b[1;33m\u001b[0m\u001b[1;33m\u001b[0m\u001b[0m\n\u001b[0m",
      "\u001b[1;31mKeyError\u001b[0m: 'country'"
     ]
    }
   ],
   "source": [
    "student1.pop('country')"
   ]
  },
  {
   "cell_type": "code",
   "execution_count": 45,
   "id": "5e9323de",
   "metadata": {},
   "outputs": [],
   "source": [
    "student1.update({'country': 'USA'})"
   ]
  },
  {
   "cell_type": "code",
   "execution_count": 46,
   "id": "f774215d",
   "metadata": {},
   "outputs": [
    {
     "data": {
      "text/plain": [
       "{'id': 102,\n",
       " 'name': 'John',\n",
       " 'percent': 83.5,\n",
       " 'phone': 12345,\n",
       " 'marks': {'sub1': 88, 'sub2': 85, 'sub3': 83, 'sub4': 81},\n",
       " 'country': 'USA'}"
      ]
     },
     "execution_count": 46,
     "metadata": {},
     "output_type": "execute_result"
    }
   ],
   "source": [
    "student1"
   ]
  },
  {
   "cell_type": "code",
   "execution_count": 47,
   "id": "49e5f9be",
   "metadata": {},
   "outputs": [],
   "source": [
    "student1.update({'percent': 82.5})"
   ]
  },
  {
   "cell_type": "code",
   "execution_count": 48,
   "id": "431da72e",
   "metadata": {},
   "outputs": [
    {
     "data": {
      "text/plain": [
       "{'id': 102,\n",
       " 'name': 'John',\n",
       " 'percent': 82.5,\n",
       " 'phone': 12345,\n",
       " 'marks': {'sub1': 88, 'sub2': 85, 'sub3': 83, 'sub4': 81},\n",
       " 'country': 'USA'}"
      ]
     },
     "execution_count": 48,
     "metadata": {},
     "output_type": "execute_result"
    }
   ],
   "source": [
    "student1"
   ]
  },
  {
   "cell_type": "code",
   "execution_count": 49,
   "id": "b0f2730f",
   "metadata": {},
   "outputs": [],
   "source": [
    "address = {'house_no': 3, 'street': 'H Street', 'city': 'NY', 'pin': 9877}"
   ]
  },
  {
   "cell_type": "code",
   "execution_count": 50,
   "id": "042ada81",
   "metadata": {},
   "outputs": [
    {
     "data": {
      "text/plain": [
       "{'house_no': 3, 'street': 'H Street', 'city': 'NY', 'pin': 9877}"
      ]
     },
     "execution_count": 50,
     "metadata": {},
     "output_type": "execute_result"
    }
   ],
   "source": [
    "address"
   ]
  },
  {
   "cell_type": "code",
   "execution_count": 51,
   "id": "3ff1f376",
   "metadata": {},
   "outputs": [],
   "source": [
    "student1.update({'addr': address})"
   ]
  },
  {
   "cell_type": "code",
   "execution_count": 52,
   "id": "9cbfa4d2",
   "metadata": {},
   "outputs": [
    {
     "data": {
      "text/plain": [
       "{'id': 102,\n",
       " 'name': 'John',\n",
       " 'percent': 82.5,\n",
       " 'phone': 12345,\n",
       " 'marks': {'sub1': 88, 'sub2': 85, 'sub3': 83, 'sub4': 81},\n",
       " 'country': 'USA',\n",
       " 'addr': {'house_no': 3, 'street': 'H Street', 'city': 'NY', 'pin': 9877}}"
      ]
     },
     "execution_count": 52,
     "metadata": {},
     "output_type": "execute_result"
    }
   ],
   "source": [
    "student1"
   ]
  },
  {
   "cell_type": "code",
   "execution_count": 53,
   "id": "6d4636d7",
   "metadata": {},
   "outputs": [
    {
     "data": {
      "text/plain": [
       "{'house_no': 3, 'street': 'H Street', 'city': 'NY', 'pin': 9877}"
      ]
     },
     "execution_count": 53,
     "metadata": {},
     "output_type": "execute_result"
    }
   ],
   "source": [
    "student1.pop('addr')"
   ]
  },
  {
   "cell_type": "code",
   "execution_count": 54,
   "id": "d8eb6ad8",
   "metadata": {},
   "outputs": [
    {
     "data": {
      "text/plain": [
       "{'id': 102,\n",
       " 'name': 'John',\n",
       " 'percent': 82.5,\n",
       " 'phone': 12345,\n",
       " 'marks': {'sub1': 88, 'sub2': 85, 'sub3': 83, 'sub4': 81},\n",
       " 'country': 'USA'}"
      ]
     },
     "execution_count": 54,
     "metadata": {},
     "output_type": "execute_result"
    }
   ],
   "source": [
    "student1"
   ]
  },
  {
   "cell_type": "code",
   "execution_count": 55,
   "id": "98df0afd",
   "metadata": {},
   "outputs": [],
   "source": [
    "student1.update(address)"
   ]
  },
  {
   "cell_type": "code",
   "execution_count": 56,
   "id": "12407469",
   "metadata": {},
   "outputs": [
    {
     "data": {
      "text/plain": [
       "{'id': 102,\n",
       " 'name': 'John',\n",
       " 'percent': 82.5,\n",
       " 'phone': 12345,\n",
       " 'marks': {'sub1': 88, 'sub2': 85, 'sub3': 83, 'sub4': 81},\n",
       " 'country': 'USA',\n",
       " 'house_no': 3,\n",
       " 'street': 'H Street',\n",
       " 'city': 'NY',\n",
       " 'pin': 9877}"
      ]
     },
     "execution_count": 56,
     "metadata": {},
     "output_type": "execute_result"
    }
   ],
   "source": [
    "student1"
   ]
  },
  {
   "cell_type": "code",
   "execution_count": 57,
   "id": "cf6a788d",
   "metadata": {},
   "outputs": [
    {
     "data": {
      "text/plain": [
       "82.5"
      ]
     },
     "execution_count": 57,
     "metadata": {},
     "output_type": "execute_result"
    }
   ],
   "source": [
    "student1['percent']"
   ]
  },
  {
   "cell_type": "code",
   "execution_count": 59,
   "id": "7248cb15",
   "metadata": {},
   "outputs": [
    {
     "data": {
      "text/plain": [
       "82.5"
      ]
     },
     "execution_count": 59,
     "metadata": {},
     "output_type": "execute_result"
    }
   ],
   "source": [
    "student1.get('percent')"
   ]
  },
  {
   "cell_type": "code",
   "execution_count": 60,
   "id": "a5f3cd4c",
   "metadata": {},
   "outputs": [
    {
     "ename": "KeyError",
     "evalue": "'university'",
     "output_type": "error",
     "traceback": [
      "\u001b[1;31m---------------------------------------------------------------------------\u001b[0m",
      "\u001b[1;31mKeyError\u001b[0m                                  Traceback (most recent call last)",
      "\u001b[1;32m~\\AppData\\Local\\Temp/ipykernel_18696/2582584472.py\u001b[0m in \u001b[0;36m<module>\u001b[1;34m\u001b[0m\n\u001b[1;32m----> 1\u001b[1;33m \u001b[0mstudent1\u001b[0m\u001b[1;33m[\u001b[0m\u001b[1;34m'university'\u001b[0m\u001b[1;33m]\u001b[0m\u001b[1;33m\u001b[0m\u001b[1;33m\u001b[0m\u001b[0m\n\u001b[0m",
      "\u001b[1;31mKeyError\u001b[0m: 'university'"
     ]
    }
   ],
   "source": [
    "student1['university']"
   ]
  },
  {
   "cell_type": "code",
   "execution_count": 61,
   "id": "4fb8651e",
   "metadata": {},
   "outputs": [],
   "source": [
    "student1.get('university')"
   ]
  },
  {
   "cell_type": "code",
   "execution_count": 62,
   "id": "63b8d7ef",
   "metadata": {},
   "outputs": [],
   "source": [
    "uni = student1.get('university')"
   ]
  },
  {
   "cell_type": "code",
   "execution_count": 63,
   "id": "8dbbd1bd",
   "metadata": {},
   "outputs": [
    {
     "name": "stdout",
     "output_type": "stream",
     "text": [
      "None\n"
     ]
    }
   ],
   "source": [
    "print(uni)"
   ]
  },
  {
   "cell_type": "code",
   "execution_count": 64,
   "id": "0a93c22b",
   "metadata": {},
   "outputs": [
    {
     "data": {
      "text/plain": [
       "{'id': 102,\n",
       " 'name': 'John',\n",
       " 'percent': 82.5,\n",
       " 'phone': 12345,\n",
       " 'marks': {'sub1': 88, 'sub2': 85, 'sub3': 83, 'sub4': 81},\n",
       " 'country': 'USA',\n",
       " 'house_no': 3,\n",
       " 'street': 'H Street',\n",
       " 'city': 'NY',\n",
       " 'pin': 9877}"
      ]
     },
     "execution_count": 64,
     "metadata": {},
     "output_type": "execute_result"
    }
   ],
   "source": [
    "student1"
   ]
  },
  {
   "cell_type": "code",
   "execution_count": 65,
   "id": "e44e1792",
   "metadata": {},
   "outputs": [
    {
     "name": "stdout",
     "output_type": "stream",
     "text": [
      "Key is not present\n"
     ]
    }
   ],
   "source": [
    "key_to_check = 'university'\n",
    "value = student1.get(key_to_check)\n",
    "if value == None:\n",
    "    print(\"Key is not present\")\n",
    "else:\n",
    "    print(f\"The value is: {value}\")"
   ]
  },
  {
   "cell_type": "code",
   "execution_count": 66,
   "id": "b2d80f56",
   "metadata": {},
   "outputs": [
    {
     "name": "stdout",
     "output_type": "stream",
     "text": [
      "The value is: 82.5\n"
     ]
    }
   ],
   "source": [
    "key_to_check = 'percent'\n",
    "value = student1.get(key_to_check)\n",
    "if value == None:\n",
    "    print(\"Key is not present\")\n",
    "else:\n",
    "    print(f\"The value is: {value}\")"
   ]
  },
  {
   "cell_type": "code",
   "execution_count": null,
   "id": "498a619a",
   "metadata": {},
   "outputs": [],
   "source": []
  },
  {
   "cell_type": "code",
   "execution_count": 67,
   "id": "87222298",
   "metadata": {},
   "outputs": [],
   "source": [
    "# Aliasing and cloning with dictionaries"
   ]
  },
  {
   "cell_type": "code",
   "execution_count": 68,
   "id": "6cbe7164",
   "metadata": {},
   "outputs": [
    {
     "data": {
      "text/plain": [
       "{'id': 102,\n",
       " 'name': 'John',\n",
       " 'percent': 82.5,\n",
       " 'phone': 12345,\n",
       " 'marks': {'sub1': 88, 'sub2': 85, 'sub3': 83, 'sub4': 81},\n",
       " 'country': 'USA',\n",
       " 'house_no': 3,\n",
       " 'street': 'H Street',\n",
       " 'city': 'NY',\n",
       " 'pin': 9877}"
      ]
     },
     "execution_count": 68,
     "metadata": {},
     "output_type": "execute_result"
    }
   ],
   "source": [
    "student1"
   ]
  },
  {
   "cell_type": "code",
   "execution_count": 70,
   "id": "af96a4f5",
   "metadata": {},
   "outputs": [],
   "source": [
    "student2 = student1 # Aliasing"
   ]
  },
  {
   "cell_type": "code",
   "execution_count": 71,
   "id": "0740fe76",
   "metadata": {},
   "outputs": [
    {
     "data": {
      "text/plain": [
       "{'id': 102,\n",
       " 'name': 'John',\n",
       " 'percent': 82.5,\n",
       " 'phone': 12345,\n",
       " 'marks': {'sub1': 88, 'sub2': 85, 'sub3': 83, 'sub4': 81},\n",
       " 'country': 'USA',\n",
       " 'house_no': 3,\n",
       " 'street': 'H Street',\n",
       " 'city': 'NY',\n",
       " 'pin': 9877}"
      ]
     },
     "execution_count": 71,
     "metadata": {},
     "output_type": "execute_result"
    }
   ],
   "source": [
    "student2"
   ]
  },
  {
   "cell_type": "code",
   "execution_count": 72,
   "id": "923b2347",
   "metadata": {},
   "outputs": [],
   "source": [
    "student2['id'] = 111"
   ]
  },
  {
   "cell_type": "code",
   "execution_count": 73,
   "id": "8e0aa958",
   "metadata": {},
   "outputs": [
    {
     "data": {
      "text/plain": [
       "{'id': 111,\n",
       " 'name': 'John',\n",
       " 'percent': 82.5,\n",
       " 'phone': 12345,\n",
       " 'marks': {'sub1': 88, 'sub2': 85, 'sub3': 83, 'sub4': 81},\n",
       " 'country': 'USA',\n",
       " 'house_no': 3,\n",
       " 'street': 'H Street',\n",
       " 'city': 'NY',\n",
       " 'pin': 9877}"
      ]
     },
     "execution_count": 73,
     "metadata": {},
     "output_type": "execute_result"
    }
   ],
   "source": [
    "student2"
   ]
  },
  {
   "cell_type": "code",
   "execution_count": 74,
   "id": "24ae1d14",
   "metadata": {},
   "outputs": [
    {
     "data": {
      "text/plain": [
       "{'id': 111,\n",
       " 'name': 'John',\n",
       " 'percent': 82.5,\n",
       " 'phone': 12345,\n",
       " 'marks': {'sub1': 88, 'sub2': 85, 'sub3': 83, 'sub4': 81},\n",
       " 'country': 'USA',\n",
       " 'house_no': 3,\n",
       " 'street': 'H Street',\n",
       " 'city': 'NY',\n",
       " 'pin': 9877}"
      ]
     },
     "execution_count": 74,
     "metadata": {},
     "output_type": "execute_result"
    }
   ],
   "source": [
    "student1"
   ]
  },
  {
   "cell_type": "code",
   "execution_count": null,
   "id": "db1783a6",
   "metadata": {},
   "outputs": [],
   "source": []
  },
  {
   "cell_type": "code",
   "execution_count": 75,
   "id": "595e306e",
   "metadata": {},
   "outputs": [],
   "source": [
    "student3 = student1.copy()"
   ]
  },
  {
   "cell_type": "code",
   "execution_count": 76,
   "id": "7f844f27",
   "metadata": {},
   "outputs": [
    {
     "data": {
      "text/plain": [
       "{'id': 111,\n",
       " 'name': 'John',\n",
       " 'percent': 82.5,\n",
       " 'phone': 12345,\n",
       " 'marks': {'sub1': 88, 'sub2': 85, 'sub3': 83, 'sub4': 81},\n",
       " 'country': 'USA',\n",
       " 'house_no': 3,\n",
       " 'street': 'H Street',\n",
       " 'city': 'NY',\n",
       " 'pin': 9877}"
      ]
     },
     "execution_count": 76,
     "metadata": {},
     "output_type": "execute_result"
    }
   ],
   "source": [
    "student3"
   ]
  },
  {
   "cell_type": "code",
   "execution_count": 77,
   "id": "109502c8",
   "metadata": {},
   "outputs": [],
   "source": [
    "student3['id'] = 150"
   ]
  },
  {
   "cell_type": "code",
   "execution_count": 78,
   "id": "dc46bf1c",
   "metadata": {},
   "outputs": [
    {
     "data": {
      "text/plain": [
       "{'id': 150,\n",
       " 'name': 'John',\n",
       " 'percent': 82.5,\n",
       " 'phone': 12345,\n",
       " 'marks': {'sub1': 88, 'sub2': 85, 'sub3': 83, 'sub4': 81},\n",
       " 'country': 'USA',\n",
       " 'house_no': 3,\n",
       " 'street': 'H Street',\n",
       " 'city': 'NY',\n",
       " 'pin': 9877}"
      ]
     },
     "execution_count": 78,
     "metadata": {},
     "output_type": "execute_result"
    }
   ],
   "source": [
    "student3"
   ]
  },
  {
   "cell_type": "code",
   "execution_count": 79,
   "id": "ee48d58c",
   "metadata": {},
   "outputs": [
    {
     "data": {
      "text/plain": [
       "{'id': 111,\n",
       " 'name': 'John',\n",
       " 'percent': 82.5,\n",
       " 'phone': 12345,\n",
       " 'marks': {'sub1': 88, 'sub2': 85, 'sub3': 83, 'sub4': 81},\n",
       " 'country': 'USA',\n",
       " 'house_no': 3,\n",
       " 'street': 'H Street',\n",
       " 'city': 'NY',\n",
       " 'pin': 9877}"
      ]
     },
     "execution_count": 79,
     "metadata": {},
     "output_type": "execute_result"
    }
   ],
   "source": [
    "student1"
   ]
  },
  {
   "cell_type": "code",
   "execution_count": null,
   "id": "d9d6422d",
   "metadata": {},
   "outputs": [],
   "source": []
  },
  {
   "cell_type": "code",
   "execution_count": null,
   "id": "8f88e58a",
   "metadata": {},
   "outputs": [],
   "source": []
  },
  {
   "cell_type": "code",
   "execution_count": 81,
   "id": "0294e6a8",
   "metadata": {},
   "outputs": [],
   "source": [
    "marks = {'sub1': 88, 'sub2': 85, 'sub3': 83, 'sub4': 81}"
   ]
  },
  {
   "cell_type": "code",
   "execution_count": 82,
   "id": "5042e3f8",
   "metadata": {},
   "outputs": [
    {
     "data": {
      "text/plain": [
       "{'sub1': 88, 'sub2': 85, 'sub3': 83, 'sub4': 81}"
      ]
     },
     "execution_count": 82,
     "metadata": {},
     "output_type": "execute_result"
    }
   ],
   "source": [
    "marks"
   ]
  },
  {
   "cell_type": "code",
   "execution_count": 83,
   "id": "0165aba8",
   "metadata": {},
   "outputs": [
    {
     "name": "stdout",
     "output_type": "stream",
     "text": [
      "sub1\n",
      "sub2\n",
      "sub3\n",
      "sub4\n"
     ]
    }
   ],
   "source": [
    "for i in marks:\n",
    "    print(i)"
   ]
  },
  {
   "cell_type": "code",
   "execution_count": 84,
   "id": "f990655f",
   "metadata": {},
   "outputs": [
    {
     "name": "stdout",
     "output_type": "stream",
     "text": [
      "Enter the marks of sub1: 87\n",
      "Enter the marks of sub2: 60\n",
      "Enter the marks of sub3: 66\n",
      "Enter the marks of sub4: 91.5\n",
      "{'sub1': 87.0, 'sub2': 60.0, 'sub3': 66.0, 'sub4': 91.5}\n"
     ]
    }
   ],
   "source": [
    "for i in marks:\n",
    "    m = float(input(f\"Enter the marks of {i}: \"))\n",
    "    marks[i] = m\n",
    "    \n",
    "print(marks)"
   ]
  },
  {
   "cell_type": "code",
   "execution_count": 85,
   "id": "ac7379a9",
   "metadata": {},
   "outputs": [],
   "source": [
    "# marks > 90 => A\n",
    "# marks > 75 => B\n",
    "# marks > 60 => C\n",
    "# marks < 60 => F"
   ]
  },
  {
   "cell_type": "code",
   "execution_count": 86,
   "id": "42ad2b0d",
   "metadata": {},
   "outputs": [
    {
     "data": {
      "text/plain": [
       "{'sub1': 87.0, 'sub2': 60.0, 'sub3': 66.0, 'sub4': 91.5}"
      ]
     },
     "execution_count": 86,
     "metadata": {},
     "output_type": "execute_result"
    }
   ],
   "source": [
    "marks"
   ]
  },
  {
   "cell_type": "code",
   "execution_count": 87,
   "id": "b85051c4",
   "metadata": {},
   "outputs": [
    {
     "name": "stdout",
     "output_type": "stream",
     "text": [
      "sub1:B\n",
      "sub2:C\n",
      "sub3:C\n",
      "sub4:A\n"
     ]
    }
   ],
   "source": [
    "for sub in marks:\n",
    "    print(sub, end=':')\n",
    "    if marks[sub] >= 90.0:\n",
    "        print('A')\n",
    "    elif marks[sub] >= 75.0:\n",
    "        print('B')\n",
    "    elif marks[sub] >= 60.0:\n",
    "        print('C')\n",
    "    else:\n",
    "        print('F')"
   ]
  },
  {
   "cell_type": "code",
   "execution_count": 88,
   "id": "048b6218",
   "metadata": {},
   "outputs": [
    {
     "data": {
      "text/plain": [
       "{'sub1': 87.0, 'sub2': 60.0, 'sub3': 66.0, 'sub4': 91.5}"
      ]
     },
     "execution_count": 88,
     "metadata": {},
     "output_type": "execute_result"
    }
   ],
   "source": [
    "marks"
   ]
  },
  {
   "cell_type": "code",
   "execution_count": 89,
   "id": "dff1fa94",
   "metadata": {},
   "outputs": [
    {
     "name": "stdout",
     "output_type": "stream",
     "text": [
      "Enter the marks of sub1: 87.5\n",
      "Enter the marks of sub2: 90.5\n",
      "Enter the marks of sub3: 50\n",
      "Enter the marks of sub4: 66.5\n",
      "{'sub1': 87.5, 'sub2': 90.5, 'sub3': 50.0, 'sub4': 66.5}\n",
      "sub1:B\n",
      "sub2:A\n",
      "sub3:F\n",
      "sub4:C\n"
     ]
    }
   ],
   "source": [
    "for i in marks:\n",
    "    m = float(input(f\"Enter the marks of {i}: \"))\n",
    "    marks[i] = m\n",
    "    \n",
    "print(marks)\n",
    "\n",
    "for sub in marks:\n",
    "    print(sub, end=':')\n",
    "    if marks[sub] >= 90.0:\n",
    "        print('A')\n",
    "    elif marks[sub] >= 75.0:\n",
    "        print('B')\n",
    "    elif marks[sub] >= 60.0:\n",
    "        print('C')\n",
    "    else:\n",
    "        print('F')"
   ]
  },
  {
   "cell_type": "code",
   "execution_count": 90,
   "id": "33ed2430",
   "metadata": {},
   "outputs": [],
   "source": [
    "# grades = {'sub1': val1, 'sub2': val2, ....}"
   ]
  },
  {
   "cell_type": "code",
   "execution_count": 91,
   "id": "95ad1d43",
   "metadata": {},
   "outputs": [],
   "source": [
    "grades = {}\n",
    "for sub in marks:\n",
    "    if marks[sub] >= 90.0:\n",
    "        grades.update({sub: 'A'})\n",
    "        # grades[sub] = 'A'\n",
    "    elif marks[sub] >= 75.0:\n",
    "        grades.update({sub: 'B'})\n",
    "        # grades[sub] = 'B'\n",
    "    elif marks[sub] >= 60.0:\n",
    "        grades.update({sub: 'C'})\n",
    "        # grades[sub] = 'C'\n",
    "    else:\n",
    "        grades.update({sub: 'F'})\n",
    "        # grades[sub] = 'F'"
   ]
  },
  {
   "cell_type": "code",
   "execution_count": 92,
   "id": "f6c7fd48",
   "metadata": {},
   "outputs": [
    {
     "data": {
      "text/plain": [
       "{'sub1': 'B', 'sub2': 'A', 'sub3': 'F', 'sub4': 'C'}"
      ]
     },
     "execution_count": 92,
     "metadata": {},
     "output_type": "execute_result"
    }
   ],
   "source": [
    "grades"
   ]
  },
  {
   "cell_type": "code",
   "execution_count": 93,
   "id": "602bd3aa",
   "metadata": {},
   "outputs": [
    {
     "data": {
      "text/plain": [
       "{'sub1': 87.5, 'sub2': 90.5, 'sub3': 50.0, 'sub4': 66.5}"
      ]
     },
     "execution_count": 93,
     "metadata": {},
     "output_type": "execute_result"
    }
   ],
   "source": [
    "marks"
   ]
  },
  {
   "cell_type": "code",
   "execution_count": 95,
   "id": "6db4bd10",
   "metadata": {},
   "outputs": [
    {
     "name": "stdout",
     "output_type": "stream",
     "text": [
      "{'sub1': 'B', 'sub2': 'A', 'sub3': 'F', 'sub4': 'C'}\n"
     ]
    }
   ],
   "source": [
    "grades = {}\n",
    "for sub in marks:\n",
    "    if marks[sub] >= 90.0:\n",
    "        grade = 'A'\n",
    "    elif marks[sub] >= 75.0:\n",
    "        grade = 'B'\n",
    "    elif marks[sub] >= 60.0:\n",
    "        grade = 'C'\n",
    "    else:\n",
    "        grade = 'F'\n",
    "    \n",
    "    grades[sub] = grade\n",
    "    \n",
    "print(grades)"
   ]
  },
  {
   "cell_type": "code",
   "execution_count": null,
   "id": "e57a85c6",
   "metadata": {},
   "outputs": [],
   "source": []
  },
  {
   "cell_type": "code",
   "execution_count": 96,
   "id": "db509a43",
   "metadata": {},
   "outputs": [],
   "source": [
    "# student_info = {'id': , 'name':, 'addr':}"
   ]
  },
  {
   "cell_type": "code",
   "execution_count": 97,
   "id": "93f583a8",
   "metadata": {},
   "outputs": [
    {
     "name": "stdout",
     "output_type": "stream",
     "text": [
      "Enter the number of items you want: 5\n",
      "Enter the 1 key: id\n",
      "Enter the 1 value: 101\n",
      "Enter the 2 key: name\n",
      "Enter the 2 value: John\n",
      "Enter the 3 key: country\n",
      "Enter the 3 value: US\n",
      "Enter the 4 key: percent\n",
      "Enter the 4 value: 80.5\n",
      "Enter the 5 key: phone\n",
      "Enter the 5 value: 12345\n",
      "{'id': '101', 'name': 'John', 'country': 'US', 'percent': '80.5', 'phone': '12345'}\n"
     ]
    }
   ],
   "source": [
    "student_info = {}\n",
    "\n",
    "entries = int(input(\"Enter the number of items you want: \"))\n",
    "\n",
    "for i in range(entries):\n",
    "    key = input(f\"Enter the {i+1} key: \")\n",
    "    val = input(f\"Enter the {i+1} value: \")\n",
    "    student_info[key] = val # student_info.update({key:val})\n",
    "    \n",
    "print(student_info)"
   ]
  },
  {
   "cell_type": "code",
   "execution_count": 98,
   "id": "a4cdc8b9",
   "metadata": {},
   "outputs": [
    {
     "data": {
      "text/plain": [
       "{'id': '101',\n",
       " 'name': 'John',\n",
       " 'country': 'US',\n",
       " 'percent': '80.5',\n",
       " 'phone': '12345'}"
      ]
     },
     "execution_count": 98,
     "metadata": {},
     "output_type": "execute_result"
    }
   ],
   "source": [
    "student_info"
   ]
  },
  {
   "cell_type": "code",
   "execution_count": 100,
   "id": "a8789992",
   "metadata": {},
   "outputs": [],
   "source": [
    "# eval()"
   ]
  },
  {
   "cell_type": "code",
   "execution_count": 101,
   "id": "5ac5aacd",
   "metadata": {},
   "outputs": [
    {
     "name": "stdout",
     "output_type": "stream",
     "text": [
      "Enter the number of items you want: 5\n",
      "Enter the 1 key: id\n",
      "Enter the 1 value: 102\n",
      "Enter the 2 key: name\n",
      "Enter the 2 value: 'John'\n",
      "Enter the 3 key: percent\n",
      "Enter the 3 value: 81.5\n",
      "Enter the 4 key: marks\n",
      "Enter the 4 value: [87, 67, 79]\n",
      "Enter the 5 key: phone\n",
      "Enter the 5 value: 87664\n",
      "{'id': 102, 'name': 'John', 'percent': 81.5, 'marks': [87, 67, 79], 'phone': 87664}\n"
     ]
    }
   ],
   "source": [
    "student_info = {}\n",
    "\n",
    "entries = int(input(\"Enter the number of items you want: \"))\n",
    "\n",
    "for i in range(entries):\n",
    "    key = input(f\"Enter the {i+1} key: \")\n",
    "    val = eval(input(f\"Enter the {i+1} value: \"))\n",
    "    student_info[key] = val # student_info.update({key:val})\n",
    "    \n",
    "print(student_info)"
   ]
  },
  {
   "cell_type": "code",
   "execution_count": 104,
   "id": "acbe25bc",
   "metadata": {},
   "outputs": [
    {
     "data": {
      "text/plain": [
       "'John'"
      ]
     },
     "execution_count": 104,
     "metadata": {},
     "output_type": "execute_result"
    }
   ],
   "source": [
    "eval(\"'John'\")"
   ]
  },
  {
   "cell_type": "code",
   "execution_count": 105,
   "id": "9102efb8",
   "metadata": {},
   "outputs": [],
   "source": [
    "val = 100"
   ]
  },
  {
   "cell_type": "code",
   "execution_count": 106,
   "id": "74a41b9d",
   "metadata": {},
   "outputs": [
    {
     "data": {
      "text/plain": [
       "100"
      ]
     },
     "execution_count": 106,
     "metadata": {},
     "output_type": "execute_result"
    }
   ],
   "source": [
    "eval(\"val\")"
   ]
  },
  {
   "cell_type": "code",
   "execution_count": 107,
   "id": "5dbedd3e",
   "metadata": {},
   "outputs": [
    {
     "data": {
      "text/plain": [
       "100"
      ]
     },
     "execution_count": 107,
     "metadata": {},
     "output_type": "execute_result"
    }
   ],
   "source": [
    "eval('100')"
   ]
  },
  {
   "cell_type": "code",
   "execution_count": 108,
   "id": "05707849",
   "metadata": {},
   "outputs": [
    {
     "data": {
      "text/plain": [
       "'100'"
      ]
     },
     "execution_count": 108,
     "metadata": {},
     "output_type": "execute_result"
    }
   ],
   "source": [
    "eval(\"'100'\")"
   ]
  },
  {
   "cell_type": "code",
   "execution_count": 109,
   "id": "2582adc1",
   "metadata": {},
   "outputs": [
    {
     "name": "stdout",
     "output_type": "stream",
     "text": [
      "Enter a value: jill\n"
     ]
    },
    {
     "ename": "NameError",
     "evalue": "name 'jill' is not defined",
     "output_type": "error",
     "traceback": [
      "\u001b[1;31m---------------------------------------------------------------------------\u001b[0m",
      "\u001b[1;31mNameError\u001b[0m                                 Traceback (most recent call last)",
      "\u001b[1;32m~\\AppData\\Local\\Temp/ipykernel_18696/3603821581.py\u001b[0m in \u001b[0;36m<module>\u001b[1;34m\u001b[0m\n\u001b[1;32m----> 1\u001b[1;33m \u001b[0meval\u001b[0m\u001b[1;33m(\u001b[0m\u001b[0minput\u001b[0m\u001b[1;33m(\u001b[0m\u001b[1;34mf\"Enter a value: \"\u001b[0m\u001b[1;33m)\u001b[0m\u001b[1;33m)\u001b[0m\u001b[1;33m\u001b[0m\u001b[1;33m\u001b[0m\u001b[0m\n\u001b[0m",
      "\u001b[1;32m<string>\u001b[0m in \u001b[0;36m<module>\u001b[1;34m\u001b[0m\n",
      "\u001b[1;31mNameError\u001b[0m: name 'jill' is not defined"
     ]
    }
   ],
   "source": [
    "eval(input(f\"Enter a value: \"))"
   ]
  },
  {
   "cell_type": "code",
   "execution_count": null,
   "id": "c6944ca5",
   "metadata": {},
   "outputs": [],
   "source": []
  },
  {
   "cell_type": "code",
   "execution_count": 110,
   "id": "8e1f8ee2",
   "metadata": {},
   "outputs": [],
   "source": [
    "str1 = \"hello world\""
   ]
  },
  {
   "cell_type": "code",
   "execution_count": 111,
   "id": "012b7be6",
   "metadata": {},
   "outputs": [],
   "source": [
    "# out = {'h':1 , 'e': 1, 'l': 3, 'o': 2, .....}"
   ]
  },
  {
   "cell_type": "code",
   "execution_count": 112,
   "id": "a50d8bbf",
   "metadata": {},
   "outputs": [
    {
     "name": "stdout",
     "output_type": "stream",
     "text": [
      "{'h': 1, 'e': 1, 'l': 3, 'o': 2, ' ': 1, 'w': 1, 'r': 1, 'd': 1}\n"
     ]
    }
   ],
   "source": [
    "out = {}\n",
    "for i in str1:\n",
    "    c = str1.count(i)\n",
    "    out[i] = c\n",
    "    \n",
    "print(out)"
   ]
  },
  {
   "cell_type": "code",
   "execution_count": 113,
   "id": "1cdc8d33",
   "metadata": {},
   "outputs": [],
   "source": [
    "# Same example without count function"
   ]
  },
  {
   "cell_type": "code",
   "execution_count": 115,
   "id": "d39c0ded",
   "metadata": {},
   "outputs": [],
   "source": [
    "# zip, ordered dict"
   ]
  },
  {
   "cell_type": "code",
   "execution_count": 116,
   "id": "6e3a243e",
   "metadata": {},
   "outputs": [
    {
     "name": "stdout",
     "output_type": "stream",
     "text": [
      "{'h': 1, 'e': 1, 'l': 3, 'o': 2, ' ': 1, 'w': 1, 'r': 1, 'd': 1}\n"
     ]
    }
   ],
   "source": [
    "str1 = \"hello world\"\n",
    "\n",
    "# out = {'h':1 , 'e': 1, 'l': 3, 'o': 2, .....}\n",
    "\n",
    "out = {}\n",
    "\n",
    "for i in str1:\n",
    "    if i in out:\n",
    "        out[i] = out[i] + 1\n",
    "    else:\n",
    "        out[i] = 1\n",
    "        \n",
    "print(out)"
   ]
  },
  {
   "cell_type": "code",
   "execution_count": null,
   "id": "88d42273",
   "metadata": {},
   "outputs": [],
   "source": []
  },
  {
   "cell_type": "code",
   "execution_count": 117,
   "id": "a420e625",
   "metadata": {},
   "outputs": [],
   "source": [
    "# zip()"
   ]
  },
  {
   "cell_type": "code",
   "execution_count": 6,
   "id": "cf327a20",
   "metadata": {},
   "outputs": [],
   "source": [
    "ids = [101, 102, 103]\n",
    "names = ['John', 'Carol', 'Mark']"
   ]
  },
  {
   "cell_type": "code",
   "execution_count": 119,
   "id": "4e8ba92a",
   "metadata": {},
   "outputs": [
    {
     "name": "stdout",
     "output_type": "stream",
     "text": [
      "Help on class zip in module builtins:\n",
      "\n",
      "class zip(object)\n",
      " |  zip(*iterables) --> A zip object yielding tuples until an input is exhausted.\n",
      " |  \n",
      " |     >>> list(zip('abcdefg', range(3), range(4)))\n",
      " |     [('a', 0, 0), ('b', 1, 1), ('c', 2, 2)]\n",
      " |  \n",
      " |  The zip object yields n-length tuples, where n is the number of iterables\n",
      " |  passed as positional arguments to zip().  The i-th element in every tuple\n",
      " |  comes from the i-th iterable argument to zip().  This continues until the\n",
      " |  shortest argument is exhausted.\n",
      " |  \n",
      " |  Methods defined here:\n",
      " |  \n",
      " |  __getattribute__(self, name, /)\n",
      " |      Return getattr(self, name).\n",
      " |  \n",
      " |  __iter__(self, /)\n",
      " |      Implement iter(self).\n",
      " |  \n",
      " |  __next__(self, /)\n",
      " |      Implement next(self).\n",
      " |  \n",
      " |  __reduce__(...)\n",
      " |      Return state information for pickling.\n",
      " |  \n",
      " |  ----------------------------------------------------------------------\n",
      " |  Static methods defined here:\n",
      " |  \n",
      " |  __new__(*args, **kwargs) from builtins.type\n",
      " |      Create and return a new object.  See help(type) for accurate signature.\n",
      "\n"
     ]
    }
   ],
   "source": [
    "help(zip)"
   ]
  },
  {
   "cell_type": "code",
   "execution_count": 5,
   "id": "3827406a",
   "metadata": {},
   "outputs": [
    {
     "ename": "NameError",
     "evalue": "name 'ids' is not defined",
     "output_type": "error",
     "traceback": [
      "\u001b[1;31m---------------------------------------------------------------------------\u001b[0m",
      "\u001b[1;31mNameError\u001b[0m                                 Traceback (most recent call last)",
      "\u001b[1;32m~\\AppData\\Local\\Temp\\ipykernel_6984\\1866636969.py\u001b[0m in \u001b[0;36m<module>\u001b[1;34m\u001b[0m\n\u001b[1;32m----> 1\u001b[1;33m \u001b[0mids\u001b[0m\u001b[1;33m\u001b[0m\u001b[1;33m\u001b[0m\u001b[0m\n\u001b[0m",
      "\u001b[1;31mNameError\u001b[0m: name 'ids' is not defined"
     ]
    }
   ],
   "source": [
    "ids"
   ]
  },
  {
   "cell_type": "code",
   "execution_count": 121,
   "id": "83691812",
   "metadata": {},
   "outputs": [
    {
     "data": {
      "text/plain": [
       "['John', 'Carol', 'Mark']"
      ]
     },
     "execution_count": 121,
     "metadata": {},
     "output_type": "execute_result"
    }
   ],
   "source": [
    "names"
   ]
  },
  {
   "cell_type": "code",
   "execution_count": 122,
   "id": "b007eeac",
   "metadata": {},
   "outputs": [
    {
     "data": {
      "text/plain": [
       "<zip at 0x222fcc4be40>"
      ]
     },
     "execution_count": 122,
     "metadata": {},
     "output_type": "execute_result"
    }
   ],
   "source": [
    "zip(ids, names)"
   ]
  },
  {
   "cell_type": "code",
   "execution_count": 123,
   "id": "a1a99f41",
   "metadata": {},
   "outputs": [
    {
     "data": {
      "text/plain": [
       "[(101, 'John'), (102, 'Carol'), (103, 'Mark')]"
      ]
     },
     "execution_count": 123,
     "metadata": {},
     "output_type": "execute_result"
    }
   ],
   "source": [
    "list(zip(ids, names))"
   ]
  },
  {
   "cell_type": "code",
   "execution_count": 124,
   "id": "5a04af40",
   "metadata": {},
   "outputs": [
    {
     "data": {
      "text/plain": [
       "{101: 'John', 102: 'Carol', 103: 'Mark'}"
      ]
     },
     "execution_count": 124,
     "metadata": {},
     "output_type": "execute_result"
    }
   ],
   "source": [
    "dict(zip(ids, names))"
   ]
  },
  {
   "cell_type": "code",
   "execution_count": 1,
   "id": "604a452c",
   "metadata": {},
   "outputs": [],
   "source": [
    "percents = [90.5, 87.0]"
   ]
  },
  {
   "cell_type": "code",
   "execution_count": 2,
   "id": "e440ce01",
   "metadata": {},
   "outputs": [
    {
     "ename": "NameError",
     "evalue": "name 'ids' is not defined",
     "output_type": "error",
     "traceback": [
      "\u001b[1;31m---------------------------------------------------------------------------\u001b[0m",
      "\u001b[1;31mNameError\u001b[0m                                 Traceback (most recent call last)",
      "\u001b[1;32m~\\AppData\\Local\\Temp\\ipykernel_6984\\1866636969.py\u001b[0m in \u001b[0;36m<module>\u001b[1;34m\u001b[0m\n\u001b[1;32m----> 1\u001b[1;33m \u001b[0mids\u001b[0m\u001b[1;33m\u001b[0m\u001b[1;33m\u001b[0m\u001b[0m\n\u001b[0m",
      "\u001b[1;31mNameError\u001b[0m: name 'ids' is not defined"
     ]
    }
   ],
   "source": [
    "ids"
   ]
  },
  {
   "cell_type": "code",
   "execution_count": 3,
   "id": "e89ce9a7",
   "metadata": {},
   "outputs": [
    {
     "ename": "NameError",
     "evalue": "name 'names' is not defined",
     "output_type": "error",
     "traceback": [
      "\u001b[1;31m---------------------------------------------------------------------------\u001b[0m",
      "\u001b[1;31mNameError\u001b[0m                                 Traceback (most recent call last)",
      "\u001b[1;32m~\\AppData\\Local\\Temp\\ipykernel_6984\\632931090.py\u001b[0m in \u001b[0;36m<module>\u001b[1;34m\u001b[0m\n\u001b[1;32m----> 1\u001b[1;33m \u001b[0mnames\u001b[0m\u001b[1;33m\u001b[0m\u001b[1;33m\u001b[0m\u001b[0m\n\u001b[0m",
      "\u001b[1;31mNameError\u001b[0m: name 'names' is not defined"
     ]
    }
   ],
   "source": [
    "names"
   ]
  },
  {
   "cell_type": "code",
   "execution_count": 4,
   "id": "6da70109",
   "metadata": {},
   "outputs": [
    {
     "data": {
      "text/plain": [
       "[90.5, 87.0]"
      ]
     },
     "execution_count": 4,
     "metadata": {},
     "output_type": "execute_result"
    }
   ],
   "source": [
    "percents\n"
   ]
  },
  {
   "cell_type": "code",
   "execution_count": 7,
   "id": "b63f4744",
   "metadata": {},
   "outputs": [
    {
     "data": {
      "text/plain": [
       "[(101, 'John', 90.5), (102, 'Carol', 87.0)]"
      ]
     },
     "execution_count": 7,
     "metadata": {},
     "output_type": "execute_result"
    }
   ],
   "source": [
    "list(zip(ids, names, percents))"
   ]
  },
  {
   "cell_type": "code",
   "execution_count": 131,
   "id": "14e90af5",
   "metadata": {},
   "outputs": [
    {
     "ename": "ValueError",
     "evalue": "dictionary update sequence element #0 has length 3; 2 is required",
     "output_type": "error",
     "traceback": [
      "\u001b[1;31m---------------------------------------------------------------------------\u001b[0m",
      "\u001b[1;31mValueError\u001b[0m                                Traceback (most recent call last)",
      "\u001b[1;32m~\\AppData\\Local\\Temp/ipykernel_18696/1573208401.py\u001b[0m in \u001b[0;36m<module>\u001b[1;34m\u001b[0m\n\u001b[1;32m----> 1\u001b[1;33m \u001b[0mdict\u001b[0m\u001b[1;33m(\u001b[0m\u001b[0mzip\u001b[0m\u001b[1;33m(\u001b[0m\u001b[0mids\u001b[0m\u001b[1;33m,\u001b[0m \u001b[0mnames\u001b[0m\u001b[1;33m,\u001b[0m \u001b[0mpercents\u001b[0m\u001b[1;33m)\u001b[0m\u001b[1;33m)\u001b[0m\u001b[1;33m\u001b[0m\u001b[1;33m\u001b[0m\u001b[0m\n\u001b[0m",
      "\u001b[1;31mValueError\u001b[0m: dictionary update sequence element #0 has length 3; 2 is required"
     ]
    }
   ],
   "source": [
    "dict(zip(ids, names, percents))"
   ]
  },
  {
   "cell_type": "code",
   "execution_count": 132,
   "id": "3677d846",
   "metadata": {},
   "outputs": [
    {
     "data": {
      "text/plain": [
       "[101, 102, 103]"
      ]
     },
     "execution_count": 132,
     "metadata": {},
     "output_type": "execute_result"
    }
   ],
   "source": [
    "ids"
   ]
  },
  {
   "cell_type": "code",
   "execution_count": 133,
   "id": "0161b8ea",
   "metadata": {},
   "outputs": [
    {
     "data": {
      "text/plain": [
       "['John', 'Carol', 'Mark']"
      ]
     },
     "execution_count": 133,
     "metadata": {},
     "output_type": "execute_result"
    }
   ],
   "source": [
    "names"
   ]
  },
  {
   "cell_type": "code",
   "execution_count": 134,
   "id": "020df280",
   "metadata": {},
   "outputs": [],
   "source": [
    "# {101: 'John', 102: 'Carol', 103: 'Mark'}"
   ]
  },
  {
   "cell_type": "code",
   "execution_count": 136,
   "id": "a20309d2",
   "metadata": {},
   "outputs": [
    {
     "name": "stdout",
     "output_type": "stream",
     "text": [
      "{101: 'John', 102: 'Carol', 103: 'Mark'}\n"
     ]
    }
   ],
   "source": [
    "i = 0\n",
    "out = {}\n",
    "while i < len(ids):\n",
    "    out[ids[i]] = names[i]\n",
    "    i += 1\n",
    "    \n",
    "print(out)"
   ]
  },
  {
   "cell_type": "code",
   "execution_count": 137,
   "id": "2dd8e947",
   "metadata": {},
   "outputs": [
    {
     "name": "stdout",
     "output_type": "stream",
     "text": [
      "{101: 'John', 102: 'Carol', 103: 'Mark'}\n"
     ]
    }
   ],
   "source": [
    "out = {}\n",
    "for i in range(len(ids)):\n",
    "    out[ids[i]] = names[i]\n",
    "    i += 1\n",
    "    \n",
    "print(out)"
   ]
  },
  {
   "cell_type": "code",
   "execution_count": 138,
   "id": "8600c636",
   "metadata": {},
   "outputs": [
    {
     "data": {
      "text/plain": [
       "{101: 'John', 102: 'Carol', 103: 'Mark'}"
      ]
     },
     "execution_count": 138,
     "metadata": {},
     "output_type": "execute_result"
    }
   ],
   "source": [
    "dict(zip(ids, names))"
   ]
  },
  {
   "cell_type": "code",
   "execution_count": null,
   "id": "7f90c13f",
   "metadata": {},
   "outputs": [],
   "source": []
  },
  {
   "cell_type": "code",
   "execution_count": 139,
   "id": "404d4cc2",
   "metadata": {},
   "outputs": [],
   "source": [
    "# Ordered dictionary"
   ]
  },
  {
   "cell_type": "code",
   "execution_count": 141,
   "id": "209dd8eb",
   "metadata": {},
   "outputs": [],
   "source": [
    "# OrderedDict is the datatype inside a module called 'collections'"
   ]
  },
  {
   "cell_type": "code",
   "execution_count": 142,
   "id": "15884d84",
   "metadata": {},
   "outputs": [],
   "source": [
    "from collections import OrderedDict"
   ]
  },
  {
   "cell_type": "code",
   "execution_count": 143,
   "id": "04435b39",
   "metadata": {},
   "outputs": [],
   "source": [
    "d1 = OrderedDict({'a': 1, 'b': 2})"
   ]
  },
  {
   "cell_type": "code",
   "execution_count": 145,
   "id": "a83171aa",
   "metadata": {},
   "outputs": [
    {
     "name": "stdout",
     "output_type": "stream",
     "text": [
      "OrderedDict([('a', 1), ('b', 2)])\n"
     ]
    }
   ],
   "source": [
    "print(d1)"
   ]
  },
  {
   "cell_type": "code",
   "execution_count": 146,
   "id": "3c6f1c63",
   "metadata": {},
   "outputs": [
    {
     "name": "stdout",
     "output_type": "stream",
     "text": [
      "<class 'collections.OrderedDict'>\n"
     ]
    }
   ],
   "source": [
    "print(type(d1))"
   ]
  },
  {
   "cell_type": "code",
   "execution_count": 147,
   "id": "3ad9350c",
   "metadata": {},
   "outputs": [
    {
     "data": {
      "text/plain": [
       "1"
      ]
     },
     "execution_count": 147,
     "metadata": {},
     "output_type": "execute_result"
    }
   ],
   "source": [
    "d1['a']"
   ]
  },
  {
   "cell_type": "code",
   "execution_count": 148,
   "id": "34690166",
   "metadata": {},
   "outputs": [
    {
     "data": {
      "text/plain": [
       "2"
      ]
     },
     "execution_count": 148,
     "metadata": {},
     "output_type": "execute_result"
    }
   ],
   "source": [
    "d1['b']"
   ]
  },
  {
   "cell_type": "code",
   "execution_count": 149,
   "id": "0df2c60b",
   "metadata": {},
   "outputs": [],
   "source": [
    "d1['a'] = 10"
   ]
  },
  {
   "cell_type": "code",
   "execution_count": 150,
   "id": "ca5fa6f3",
   "metadata": {},
   "outputs": [
    {
     "data": {
      "text/plain": [
       "OrderedDict([('a', 10), ('b', 2)])"
      ]
     },
     "execution_count": 150,
     "metadata": {},
     "output_type": "execute_result"
    }
   ],
   "source": [
    "d1"
   ]
  },
  {
   "cell_type": "code",
   "execution_count": 151,
   "id": "28b67227",
   "metadata": {},
   "outputs": [],
   "source": [
    "d1['c'] = 100"
   ]
  },
  {
   "cell_type": "code",
   "execution_count": 152,
   "id": "d3a154fa",
   "metadata": {},
   "outputs": [
    {
     "data": {
      "text/plain": [
       "OrderedDict([('a', 10), ('b', 2), ('c', 100)])"
      ]
     },
     "execution_count": 152,
     "metadata": {},
     "output_type": "execute_result"
    }
   ],
   "source": [
    "d1"
   ]
  },
  {
   "cell_type": "code",
   "execution_count": 153,
   "id": "b36d5f5e",
   "metadata": {},
   "outputs": [
    {
     "name": "stdout",
     "output_type": "stream",
     "text": [
      "a\n",
      "b\n",
      "c\n"
     ]
    }
   ],
   "source": [
    "for i in d1:\n",
    "    print(i)"
   ]
  },
  {
   "cell_type": "code",
   "execution_count": 154,
   "id": "d9aaa8af",
   "metadata": {},
   "outputs": [
    {
     "data": {
      "text/plain": [
       "odict_keys(['a', 'b', 'c'])"
      ]
     },
     "execution_count": 154,
     "metadata": {},
     "output_type": "execute_result"
    }
   ],
   "source": [
    "d1.keys()"
   ]
  },
  {
   "cell_type": "code",
   "execution_count": 155,
   "id": "d206ff8a",
   "metadata": {},
   "outputs": [
    {
     "data": {
      "text/plain": [
       "10"
      ]
     },
     "execution_count": 155,
     "metadata": {},
     "output_type": "execute_result"
    }
   ],
   "source": [
    "d1.get('a')"
   ]
  },
  {
   "cell_type": "code",
   "execution_count": null,
   "id": "a8662bf3",
   "metadata": {},
   "outputs": [],
   "source": []
  }
 ],
 "metadata": {
  "kernelspec": {
   "display_name": "Python 3 (ipykernel)",
   "language": "python",
   "name": "python3"
  },
  "language_info": {
   "codemirror_mode": {
    "name": "ipython",
    "version": 3
   },
   "file_extension": ".py",
   "mimetype": "text/x-python",
   "name": "python",
   "nbconvert_exporter": "python",
   "pygments_lexer": "ipython3",
   "version": "3.9.13"
  }
 },
 "nbformat": 4,
 "nbformat_minor": 5
}
